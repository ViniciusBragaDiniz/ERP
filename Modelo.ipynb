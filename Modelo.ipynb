{
 "cells": [
  {
   "cell_type": "code",
   "execution_count": 1,
   "metadata": {},
   "outputs": [],
   "source": [
    "import pandas as pd\n",
    "from docplex.mp.model import Model\n",
    "from docplex.mp.linear import LinearExpr"
   ]
  },
  {
   "cell_type": "code",
   "execution_count": 2,
   "metadata": {},
   "outputs": [],
   "source": [
    "#Leitura das Instâncias\n",
    "veiculos = pd.read_csv(\"k_15\",index_col=0)\n",
    "vitimas = pd.read_csv(\"v_5\",index_col=0)\n",
    "pontos = pd.read_csv(\"n_200\",index_col=0)\n",
    "hospitais = veiculos[\"Inicial\"].unique()"
   ]
  },
  {
   "cell_type": "code",
   "execution_count": 3,
   "metadata": {},
   "outputs": [],
   "source": [
    "#Criação da Matriz de Distância\n",
    "_DistanceMatrix = pd.DataFrame(0,index=pontos.index,columns=pontos.index,dtype=float)"
   ]
  },
  {
   "cell_type": "code",
   "execution_count": 4,
   "metadata": {},
   "outputs": [],
   "source": [
    "#Popula a Matriz de Distância\n",
    "for i in _DistanceMatrix.index:\n",
    "    for j in pontos.loc[i][2:].values:\n",
    "        x = (pontos.loc[i][\"x\"]-pontos.loc[int(j)][\"x\"])**2\n",
    "        y = (pontos.loc[i][\"y\"]-pontos.loc[int(j)][\"y\"])**2\n",
    "        _DistanceMatrix.loc[i][j] = 100*((x+y)**(1/2))"
   ]
  },
  {
   "cell_type": "markdown",
   "metadata": {},
   "source": [
    "# Modelagem"
   ]
  },
  {
   "cell_type": "code",
   "execution_count": 5,
   "metadata": {},
   "outputs": [],
   "source": [
    "vrp = Model(\"Ambulancias-VRP\") #Modelo"
   ]
  },
  {
   "cell_type": "code",
   "execution_count": 6,
   "metadata": {},
   "outputs": [],
   "source": [
    "#Matriz com as variáveis de decisão principais\n",
    "_DecisionCube = vrp.binary_var_cube(_DistanceMatrix.index,_DistanceMatrix.index,veiculos.index,\"Arc\")"
   ]
  },
  {
   "cell_type": "code",
   "execution_count": 7,
   "metadata": {},
   "outputs": [],
   "source": [
    "#Função Objetivo\n",
    "vrp.minimize(vrp.sum(_DecisionCube[i,j,k]*_DistanceMatrix.loc[i][j] \n",
    "                     for i in _DistanceMatrix.index \n",
    "                     for j in _DistanceMatrix.index \n",
    "                     for k in veiculos.index))"
   ]
  },
  {
   "cell_type": "code",
   "execution_count": 8,
   "metadata": {},
   "outputs": [],
   "source": [
    "forbidden = LinearExpr(vrp)   #Arcos proíbidos\n",
    "\n",
    "for k in veiculos.index:\n",
    "    for i in _DistanceMatrix.index:\n",
    "        \n",
    "        flux = LinearExpr(vrp)    #Conservação de Fluxo\n",
    "        match = LinearExpr(vrp)   #Restrição de Compatibilidade\n",
    "        for j in _DistanceMatrix.index:\n",
    "            \n",
    "            if _DistanceMatrix.loc[i][j] > 0:    #Verifica se o arco existe\n",
    "                \n",
    "                if i in vitimas[\"Ponto\"].values: #Se nodo 'i' for uma vítima:\n",
    "                    match+=_DecisionCube[j,i,k]  #Adiciona os arcos 'jik' em 'match'\n",
    "                    flux +=_DecisionCube[j,i,k]  #Subtrai o arco de chegada em 'i'\n",
    "                \n",
    "                elif i == veiculos.loc[k][\"Inicial\"]: #Se o nodo 'i' for um hospital\n",
    "                    flux += _DecisionCube[i,j,k]      #Adiciona o arco de saída de 'i'\n",
    "                \n",
    "                elif j == veiculos.loc[k][\"Inicial\"]: #Se o nodo 'j' for o ponto de saida de 'k'\n",
    "                    forbidden += _DecisionCube[i,j,k] #Retira o arco 'ij' da solução\n",
    "                    flux -=_DecisionCube[j,i,k]       #Coloca o arco de saída de 'j' no fluxo\n",
    "                    \n",
    "                else:                                 #Se nenhum desses casos se aplicar\n",
    "                    flux+=_DecisionCube[i,j,k]-_DecisionCube[j,i,k] #Fluxo normal\n",
    "                \n",
    "                    \n",
    "            else:                               #Se o arco não existir\n",
    "                forbidden += _DecisionCube[i,j,k]#Tira ele da solução\n",
    "                         \n",
    "        if i in vitimas[\"Ponto\"].values: #Se nodo 'i' for uma vítima\n",
    "            #Permite 'k' chegar em 'i' no máximo 1 vez\n",
    "            vrp.add_constraint(flux<=1,\"ChegadaVitima_\"+str(i)+\"_Carro_\"+str(k))\n",
    "            \n",
    "            #Pega a prioridade da vitima 'i'\n",
    "            prioridade = vitimas[vitimas[\"Ponto\"] == i][\"Prioridade\"].values[0]\n",
    "            \n",
    "            #E cria as restriçõe de UpperBound\n",
    "            vrp.add_constraint((veiculos.loc[k][\"UpperBound\"])*match-prioridade*match>=0,\n",
    "                               \"MatchUB_Ocurrence_\"+str(i)+\"_Vehicle\"+str(k))\n",
    "            #E LowerBound\n",
    "            vrp.add_constraint((veiculos.loc[k][\"LowerBound\"])*match-prioridade*match<=0,\n",
    "                              \"MatchLB_Ocurrence_\"+str(i)+\"_Vehicle\"+str(k))\n",
    "       \n",
    "        elif i == veiculos.loc[k][\"Inicial\"]: #Se o nodo 'i' for o inicial do veiculo 'k'\n",
    "            #Permite 'k' sair de 'i' no máximo 1 vez\n",
    "            vrp.add_constraint(flux<=1,\"FluxoInicialVeiculo_\"+str(k))\n",
    "        else:\n",
    "            #Fluxo Normal\n",
    "            vrp.add_constraint(flux==0,\"Fluxo_\"+str(i)+\"_Carro_\"+str(k))\n",
    "\n",
    "#Eliminação dos arcos inválidos\n",
    "vrp.add_constraint(forbidden==0,\"Cuts\");"
   ]
  },
  {
   "cell_type": "code",
   "execution_count": 9,
   "metadata": {
    "scrolled": true
   },
   "outputs": [],
   "source": [
    "for k in veiculos.index:\n",
    "    \n",
    "    inicial = veiculos.loc[k][\"Inicial\"] #Ponto de Saída de 'k'\n",
    "    \n",
    "    flux_inicial = LinearExpr(vrp) #Fluxo de Saída de 'k'\n",
    "    \n",
    "    for i in pontos.loc[inicial][2:].values:          #Para todos os arcos saindo do inicial\n",
    "        flux_inicial+=_DecisionCube[inicial,int(i),k] #Adicione-os ao fluxo de saída\n",
    "    \n",
    "    flux_final = LinearExpr(vrp) #Fluxo de Chegada nas ocorrências\n",
    "    \n",
    "    for i in vitimas[\"Ponto\"].values:          #Para todas as ocorrências\n",
    "        for j in pontos.loc[i][2:]:            #Para todos os arcos saindo delas\n",
    "            flux_final += _DecisionCube[j,i,k] #Adicione-os ao fluxo de chegada\n",
    "            \n",
    "    #Se o veículo sair de seu ponto inicial, ele deve atender uma ocorrência\n",
    "    vrp.add_constraint(flux_inicial-flux_final==0,\"AtendimentoObrigatorio_\"+str(k))"
   ]
  },
  {
   "cell_type": "code",
   "execution_count": 10,
   "metadata": {},
   "outputs": [],
   "source": [
    "for i in vitimas[\"Ponto\"].values:\n",
    "    \n",
    "    demand = LinearExpr(vrp) #Demanda da vítima 'i'\n",
    "    \n",
    "    for j in pontos.loc[i][2:].values:\n",
    "        for k in veiculos.index:\n",
    "            #Para cada arco 'j' chegando em 'i' e veículo 'k'\n",
    "            #Os adicionamos à expressão\n",
    "            demand+=_DecisionCube[int(j),int(i),k]\n",
    "    #Ao menos um precisa passar nessa vítima\n",
    "    vrp.add_constraint(demand>=1,\"DemandaVitima_\"+str(i))"
   ]
  },
  {
   "cell_type": "code",
   "execution_count": 11,
   "metadata": {},
   "outputs": [],
   "source": [
    "for k in veiculos.index:\n",
    "    capacidade = LinearExpr(vrp) #Capacidade do veículo 'k'\n",
    "    for i in vitimas[\"Ponto\"].values:\n",
    "        for j in pontos.loc[i][2:]:\n",
    "            #Para cada arco chegando em cada vítima\n",
    "            #Adicione-o à expressão\n",
    "            capacidade+=_DecisionCube[int(j),int(i),k]\n",
    "            \n",
    "    #O veículo só pode \n",
    "    vrp.add_constraint(capacidade<=1,\"CapacidadeVeiculo_\"+str(k))"
   ]
  },
  {
   "cell_type": "code",
   "execution_count": 12,
   "metadata": {},
   "outputs": [
    {
     "data": {
      "text/plain": [
       "'Model.lp'"
      ]
     },
     "execution_count": 12,
     "metadata": {},
     "output_type": "execute_result"
    }
   ],
   "source": [
    "vrp.export_as_lp(\"Model\")"
   ]
  },
  {
   "cell_type": "code",
   "execution_count": 13,
   "metadata": {
    "scrolled": true
   },
   "outputs": [
    {
     "name": "stdout",
     "output_type": "stream",
     "text": [
      "Version identifier: 12.10.0.0 | 2019-11-26 | 843d4de\n",
      "CPXPARAM_Read_DataCheck                          1\n",
      "CPXPARAM_RandomSeed                              201903125\n",
      "Tried aggregator 1 time.\n",
      "MIP Presolve eliminated 259 rows and 666612 columns.\n",
      "Reduced MIP has 3351 rows, 13388 columns, and 26900 nonzeros.\n",
      "Reduced MIP has 13388 binaries, 0 generals, 0 SOSs, and 0 indicators.\n",
      "Presolve time = 0.71 sec. (234.26 ticks)\n",
      "Found incumbent of value 4373650.255782 after 1.39 sec. (360.09 ticks)\n",
      "Probing time = 0.02 sec. (1.11 ticks)\n",
      "Tried aggregator 1 time.\n",
      "Detecting symmetries...\n",
      "Reduced MIP has 3351 rows, 13388 columns, and 26900 nonzeros.\n",
      "Reduced MIP has 13388 binaries, 0 generals, 0 SOSs, and 0 indicators.\n",
      "Presolve time = 0.06 sec. (17.53 ticks)\n",
      "Probing time = 0.03 sec. (1.29 ticks)\n",
      "Clique table members: 32.\n",
      "MIP emphasis: balance optimality and feasibility.\n",
      "MIP search method: dynamic search.\n",
      "Parallel mode: deterministic, using up to 4 threads.\n",
      "Root relaxation solution time = 0.26 sec. (100.35 ticks)\n",
      "\n",
      "        Nodes                                         Cuts/\n",
      "   Node  Left     Objective  IInf  Best Integer    Best Bound    ItCnt     Gap\n",
      "\n",
      "*     0+    0                      4373650.2558        0.0000           100.00%\n",
      "*     0+    0                       294294.6010        0.0000           100.00%\n",
      "*     0     0      integral     0    29148.4080    29148.4080     1924    0.00%\n",
      "Elapsed time = 2.07 sec. (593.10 ticks, tree = 0.00 MB, solutions = 3)\n",
      "\n",
      "Root node processing (before b&c):\n",
      "  Real time             =    2.15 sec. (620.38 ticks)\n",
      "Parallel b&c, 4 threads:\n",
      "  Real time             =    0.00 sec. (0.00 ticks)\n",
      "  Sync time (average)   =    0.00 sec.\n",
      "  Wait time (average)   =    0.00 sec.\n",
      "                          ------------\n",
      "Total (root+branch&cut) =    2.15 sec. (620.38 ticks)\n",
      "3.3855671882629395\n"
     ]
    }
   ],
   "source": [
    "import time\n",
    "start = time.time()\n",
    "subcicle = True\n",
    "#Assumindo que existe subciclos, nós...\n",
    "while subcicle == True:\n",
    "    #... criamos uma rota para cada entregador...\n",
    "    routes = {x:{} for x in veiculos.index}    \n",
    "    #... e solucionamos o vrpo.\n",
    "    _Solution = vrp.solve(log_output=True).as_dict()\n",
    "    #Separamos a solução em rotas distintas para cada entregador...\n",
    "    for i in _Solution:\n",
    "        aux = i.name.split(\"_\")[1:]\n",
    "        routes[int(aux[2])][int(aux[0])]=int(aux[1])\n",
    "    \n",
    "    count = 0\n",
    "    summ = 0\n",
    "    #... percorremos toda a lista de de entregadores...\n",
    "    for k in veiculos.index:\n",
    "        #... verificando se ele fez alguma rota...\n",
    "        if len(routes[k]) > 0:\n",
    "            #... e caso tenha feito, retiramos a rota principal.\n",
    "            inicial = veiculos.loc[k][\"Inicial\"]\n",
    "            if inicial in list(routes[k].keys()):\n",
    "                actual_node = routes[k].pop(inicial)\n",
    "            else:\n",
    "                inicial =list(routes[k].keys())[0]\n",
    "                actual_node = routes[k].pop(inicial)\n",
    "            while actual_node not in vitimas[\"Ponto\"].values:\n",
    "                actual_node = routes[k].pop(actual_node) #Percorre o ciclo principal e o exclui#\n",
    "        summ += len(routes[k])\n",
    "        \n",
    "        \n",
    "        #Verificamos em seguida se sobrou algo depois de retirarmos a rota principal...\n",
    "        if len(routes[k]) >0:\n",
    "            #... e percorremos todas os subciclos ...\n",
    "            while(len(routes[k])>0):\n",
    "                cut = LinearExpr(vrp)\n",
    "                first_node = list(routes[k].keys())[0]\n",
    "                actual_node = routes[k].pop(first_node)\n",
    "                cut += _DecisionCube[int(first_node),int(actual_node),k]\n",
    "                size = 0\n",
    "                #... retirando-os 1 de cada vez ...\n",
    "                \n",
    "                while(actual_node != first_node):\n",
    "                    next_node = routes[k].pop(actual_node)                 #Percorre o subciclo e o adiciona ao#\n",
    "                    cut += _DecisionCube[int(actual_node),int(next_node),k]#conjunto de subciclos proíbidos.#\n",
    "                    actual_node = next_node\n",
    "                    size+=1\n",
    "                count+=1\n",
    "                vrp.add_constraint(cut<=size,\"SubCycleCut_\"+str(count))\n",
    "    if summ == 0:\n",
    "        subcicle = False\n",
    "print(time.time()-start)"
   ]
  },
  {
   "cell_type": "code",
   "execution_count": 14,
   "metadata": {},
   "outputs": [
    {
     "name": "stdout",
     "output_type": "stream",
     "text": [
      "1: 24 -> 84-> 38-> 96\n",
      "3: 196 -> 179-> 199-> 189-> 184-> 98\n",
      "8: 20 -> 187-> 6-> 70\n",
      "9: 196 -> 120-> 49-> 195-> 177-> 15-> 168-> 86-> 129-> 69-> 16-> 160-> 125-> 111\n",
      "12: 196 -> 179-> 78-> 31-> 71-> 198-> 113\n"
     ]
    }
   ],
   "source": [
    "#Cria novamente as rotas de cada veículo\n",
    "for i in _Solution:\n",
    "        aux = i.name.split(\"_\")[1:]\n",
    "        routes[int(aux[2])][int(aux[0])]=int(aux[1])\n",
    "for k in veiculos.index:\n",
    "    if len(routes[k]) > 0:\n",
    "        inicial = veiculos.loc[k][\"Inicial\"]\n",
    "        actual_node = routes[k].pop(inicial)\n",
    "        \n",
    "        string=str(k)+\": \"+str(inicial)+\" -> \"+str(actual_node)\n",
    "        while actual_node not in vitimas[\"Ponto\"].values:\n",
    "            actual_node = routes[k].pop(actual_node)\n",
    "            string+=\"-> \"+str(actual_node)\n",
    "            \n",
    "        print(string)"
   ]
  },
  {
   "cell_type": "code",
   "execution_count": null,
   "metadata": {},
   "outputs": [],
   "source": []
  }
 ],
 "metadata": {
  "kernelspec": {
   "display_name": "Python 3",
   "language": "python",
   "name": "python3"
  },
  "language_info": {
   "codemirror_mode": {
    "name": "ipython",
    "version": 3
   },
   "file_extension": ".py",
   "mimetype": "text/x-python",
   "name": "python",
   "nbconvert_exporter": "python",
   "pygments_lexer": "ipython3",
   "version": "3.6.9"
  }
 },
 "nbformat": 4,
 "nbformat_minor": 4
}
