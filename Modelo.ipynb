{
 "cells": [
  {
   "cell_type": "code",
   "execution_count": 1,
   "metadata": {},
   "outputs": [
    {
     "name": "stdout",
     "output_type": "stream",
     "text": [
      "importing Jupyter notebook from Methods.ipynb\n"
     ]
    }
   ],
   "source": [
    "import pandas as pd\n",
    "import matplotlib.pyplot as plt\n",
    "from docplex.mp.model import Model\n",
    "from docplex.mp.linear import LinearExpr\n",
    "import import_ipynb\n",
    "import Methods as mt\n",
    "%matplotlib inline"
   ]
  },
  {
   "cell_type": "code",
   "execution_count": 2,
   "metadata": {},
   "outputs": [],
   "source": [
    "#Leitura das Instâncias\n",
    "veiculos = pd.read_csv(\"k_50\",index_col=0)\n",
    "vitimas = pd.read_csv(\"v_15\",index_col=0)\n",
    "pontos = pd.read_csv(\"n_300\",index_col=0)\n",
    "hospitais = veiculos[\"Inicial\"].unique()"
   ]
  },
  {
   "cell_type": "code",
   "execution_count": 3,
   "metadata": {},
   "outputs": [],
   "source": [
    "#Criação da Matriz de Distância\n",
    "_DistanceMatrix = pd.DataFrame(0,index=pontos.index,columns=pontos.index,dtype=float)"
   ]
  },
  {
   "cell_type": "code",
   "execution_count": 4,
   "metadata": {},
   "outputs": [],
   "source": [
    "#Popula a Matriz de Distância\n",
    "for i in _DistanceMatrix.index:\n",
    "    for j in pontos.loc[i][2:].values:\n",
    "        x = (pontos.loc[i][\"x\"]-pontos.loc[int(j)][\"x\"])**2\n",
    "        y = (pontos.loc[i][\"y\"]-pontos.loc[int(j)][\"y\"])**2\n",
    "        _DistanceMatrix.loc[i][j] = ((x+y)**(1/2))"
   ]
  },
  {
   "cell_type": "markdown",
   "metadata": {},
   "source": [
    "# Modelagem"
   ]
  },
  {
   "cell_type": "code",
   "execution_count": 5,
   "metadata": {},
   "outputs": [],
   "source": [
    "vrp = Model(\"Ambulancias-VRP\") #Modelo"
   ]
  },
  {
   "cell_type": "code",
   "execution_count": 6,
   "metadata": {},
   "outputs": [],
   "source": [
    "#Matriz com as variáveis de decisão principais\n",
    "_DecisionCube = vrp.binary_var_cube(_DistanceMatrix.index,_DistanceMatrix.index,veiculos.index,\"Arc\")"
   ]
  },
  {
   "cell_type": "code",
   "execution_count": null,
   "metadata": {},
   "outputs": [],
   "source": [
    "#Função Objetivo\n",
    "vrp.minimize(vrp.sum(_DecisionCube[i,j,k]*_DistanceMatrix.loc[i][j] \n",
    "                     for i in _DistanceMatrix.index \n",
    "                     for j in _DistanceMatrix.index \n",
    "                     for k in veiculos.index))"
   ]
  },
  {
   "cell_type": "code",
   "execution_count": null,
   "metadata": {},
   "outputs": [],
   "source": [
    "forbidden = LinearExpr(vrp)   #Arcos proíbidos\n",
    "\n",
    "for k in veiculos.index:\n",
    "    for i in _DistanceMatrix.index:\n",
    "        \n",
    "        flux = LinearExpr(vrp)    #Conservação de Fluxo\n",
    "        match = LinearExpr(vrp)   #Restrição de Compatibilidade\n",
    "        for j in _DistanceMatrix.index:\n",
    "            \n",
    "            if _DistanceMatrix.loc[i][j] > 0:    #Verifica se o arco existe\n",
    "                \n",
    "                if i in vitimas[\"Ponto\"].values: #Se nodo 'i' for uma vítima:\n",
    "                    match+=_DecisionCube[j,i,k]  #Adiciona os arcos 'jik' em 'match'\n",
    "                    flux +=_DecisionCube[j,i,k]  #Subtrai o arco de chegada em 'i'\n",
    "                \n",
    "                elif i == veiculos.loc[k][\"Inicial\"]: #Se o nodo 'i' for um hospital\n",
    "                    flux += _DecisionCube[i,j,k]      #Adiciona o arco de saída de 'i'\n",
    "                \n",
    "                elif j == veiculos.loc[k][\"Inicial\"]: #Se o nodo 'j' for o ponto de saida de 'k'\n",
    "                    forbidden += _DecisionCube[i,j,k] #Retira o arco 'ij' da solução\n",
    "                    flux -=_DecisionCube[j,i,k]       #Coloca o arco de saída de 'j' no fluxo\n",
    "                    \n",
    "                else:                                 #Se nenhum desses casos se aplicar\n",
    "                    flux+=_DecisionCube[i,j,k]-_DecisionCube[j,i,k] #Fluxo normal\n",
    "                \n",
    "                    \n",
    "            else:                               #Se o arco não existir\n",
    "                forbidden += _DecisionCube[i,j,k]#Tira ele da solução\n",
    "                         \n",
    "        if i in vitimas[\"Ponto\"].values: #Se nodo 'i' for uma vítima\n",
    "            #Permite 'k' chegar em 'i' no máximo 1 vez\n",
    "            vrp.add_constraint(flux<=1,\"ChegadaVitima_\"+str(i)+\"_Carro_\"+str(k))\n",
    "            \n",
    "            #Pega a prioridade da vitima 'i'\n",
    "            prioridade = vitimas[vitimas[\"Ponto\"] == i][\"Prioridade\"].values[0]\n",
    "            \n",
    "            #E cria as restriçõe de UpperBound\n",
    "            vrp.add_constraint((veiculos.loc[k][\"UpperBound\"])*match-prioridade*match>=0,\n",
    "                               \"MatchUB_Ocurrence_\"+str(i)+\"_Vehicle\"+str(k))\n",
    "            #E LowerBound\n",
    "            vrp.add_constraint((veiculos.loc[k][\"LowerBound\"])*match-prioridade*match<=0,\n",
    "                              \"MatchLB_Ocurrence_\"+str(i)+\"_Vehicle\"+str(k))\n",
    "       \n",
    "        elif i == veiculos.loc[k][\"Inicial\"]: #Se o nodo 'i' for o inicial do veiculo 'k'\n",
    "            #Permite 'k' sair de 'i' no máximo 1 vez\n",
    "            vrp.add_constraint(flux<=1,\"FluxoInicialVeiculo_\"+str(k))\n",
    "        else:\n",
    "            #Fluxo Normal\n",
    "            vrp.add_constraint(flux==0,\"Fluxo_\"+str(i)+\"_Carro_\"+str(k))\n",
    "\n",
    "#Eliminação dos arcos inválidos\n",
    "vrp.add_constraint(forbidden==0,\"Cuts\");"
   ]
  },
  {
   "cell_type": "code",
   "execution_count": null,
   "metadata": {
    "scrolled": true
   },
   "outputs": [],
   "source": [
    "for k in veiculos.index:\n",
    "    \n",
    "    inicial = veiculos.loc[k][\"Inicial\"] #Ponto de Saída de 'k'\n",
    "    \n",
    "    flux_inicial = LinearExpr(vrp) #Fluxo de Saída de 'k'\n",
    "    \n",
    "    for i in pontos.loc[inicial][2:].values:          #Para todos os arcos saindo do inicial\n",
    "        flux_inicial+=_DecisionCube[inicial,int(i),k] #Adicione-os ao fluxo de saída\n",
    "    \n",
    "    flux_final = LinearExpr(vrp) #Fluxo de Chegada nas ocorrências\n",
    "    \n",
    "    for i in vitimas[\"Ponto\"].values:          #Para todas as ocorrências\n",
    "        for j in pontos.loc[i][2:]:            #Para todos os arcos saindo delas\n",
    "            flux_final += _DecisionCube[j,i,k] #Adicione-os ao fluxo de chegada\n",
    "            \n",
    "    #Se o veículo sair de seu ponto inicial, ele deve atender uma ocorrência\n",
    "    vrp.add_constraint(flux_inicial-flux_final==0,\"AtendimentoObrigatorio_\"+str(k))"
   ]
  },
  {
   "cell_type": "code",
   "execution_count": null,
   "metadata": {},
   "outputs": [],
   "source": [
    "for i in vitimas[\"Ponto\"].values:\n",
    "    \n",
    "    demand = LinearExpr(vrp) #Demanda da vítima 'i'\n",
    "    \n",
    "    for j in pontos.loc[i][2:].values:\n",
    "        for k in veiculos.index:\n",
    "            #Para cada arco 'j' chegando em 'i' e veículo 'k'\n",
    "            #Os adicionamos à expressão\n",
    "            demand+=_DecisionCube[int(j),int(i),k]\n",
    "    #Ao menos um precisa passar nessa vítima\n",
    "    vrp.add_constraint(demand>=1,\"DemandaVitima_\"+str(i))"
   ]
  },
  {
   "cell_type": "code",
   "execution_count": null,
   "metadata": {},
   "outputs": [],
   "source": [
    "for k in veiculos.index:\n",
    "    capacidade = LinearExpr(vrp) #Capacidade do veículo 'k'\n",
    "    for i in vitimas[\"Ponto\"].values:\n",
    "        for j in pontos.loc[i][2:]:\n",
    "            #Para cada arco chegando em cada vítima\n",
    "            #Adicione-o à expressão\n",
    "            capacidade+=_DecisionCube[int(j),int(i),k]\n",
    "            \n",
    "    #O veículo só pode \n",
    "    vrp.add_constraint(capacidade<=1,\"CapacidadeVeiculo_\"+str(k))"
   ]
  },
  {
   "cell_type": "markdown",
   "metadata": {},
   "source": [
    "vrp.export_as_lp(\"Model\")"
   ]
  },
  {
   "cell_type": "code",
   "execution_count": null,
   "metadata": {
    "scrolled": true
   },
   "outputs": [],
   "source": [
    "import time\n",
    "start = time.time()\n",
    "subcicle = True\n",
    "#Assumindo que existe subciclos, nós...\n",
    "while subcicle == True:\n",
    "    #... criamos uma rota para cada entregador...\n",
    "    routes = {x:{} for x in veiculos.index}    \n",
    "    #... e solucionamos o vrpo.\n",
    "    _Solution = vrp.solve(log_output=True).as_dict()\n",
    "    #Separamos a solução em rotas distintas para cada entregador...\n",
    "    for i in _Solution:\n",
    "        aux = i.split(\"_\")[1:]\n",
    "        routes[int(aux[2])][int(aux[0])]=int(aux[1])\n",
    "    \n",
    "    count = 0\n",
    "    summ = 0\n",
    "    #... percorremos toda a lista de de entregadores...\n",
    "    for k in veiculos.index:\n",
    "        #... verificando se ele fez alguma rota...\n",
    "        if len(routes[k]) > 0:\n",
    "            #... e caso tenha feito, retiramos a rota principal.\n",
    "            inicial = veiculos.loc[k][\"Inicial\"]\n",
    "            if inicial in list(routes[k].keys()):\n",
    "                actual_node = routes[k].pop(inicial)\n",
    "            else:\n",
    "                inicial =list(routes[k].keys())[0]\n",
    "                actual_node = routes[k].pop(inicial)\n",
    "            while actual_node not in vitimas[\"Ponto\"].values:\n",
    "                actual_node = routes[k].pop(actual_node) #Percorre o ciclo principal e o exclui#\n",
    "        summ += len(routes[k])\n",
    "        \n",
    "        \n",
    "        #Verificamos em seguida se sobrou algo depois de retirarmos a rota principal...\n",
    "        if len(routes[k]) >0:\n",
    "            #... e percorremos todas os subciclos ...\n",
    "            while(len(routes[k])>0):\n",
    "                cut = LinearExpr(vrp)\n",
    "                first_node = list(routes[k].keys())[0]\n",
    "                actual_node = routes[k].pop(first_node)\n",
    "                cut += _DecisionCube[int(first_node),int(actual_node),k]\n",
    "                size = 0\n",
    "                #... retirando-os 1 de cada vez ...\n",
    "                \n",
    "                while(actual_node != first_node):\n",
    "                    next_node = routes[k].pop(actual_node)                 #Percorre o subciclo e o adiciona ao#\n",
    "                    cut += _DecisionCube[int(actual_node),int(next_node),k]#conjunto de subciclos proíbidos.#\n",
    "                    actual_node = next_node\n",
    "                    size+=1\n",
    "                count+=1\n",
    "                vrp.add_constraint(cut<=size,\"SubCycleCut_\"+str(count))\n",
    "    if summ == 0:\n",
    "        subcicle = False\n",
    "print(time.time()-start)"
   ]
  },
  {
   "cell_type": "code",
   "execution_count": null,
   "metadata": {},
   "outputs": [],
   "source": [
    "plt.figure(figsize=(10,10))\n",
    "routes = {x:{} for x in veiculos.index}  \n",
    "#Cria novamente as rotas de cada veículo\n",
    "for i in _Solution:\n",
    "        aux = i.split(\"_\")[1:]\n",
    "        routes[int(aux[2])][int(aux[0])]=int(aux[1])\n",
    "        \n",
    "atendimentos = {}\n",
    "arc_count = {}\n",
    "for k in veiculos.index:\n",
    "    #Só roda o código se o veículo tiver percorrido pelo menos um arco\n",
    "    if len(routes[k]) > 0:\n",
    "        \n",
    "        inicial = veiculos.loc[k][\"Inicial\"]\n",
    "        actual_node = routes[k].pop(inicial)\n",
    "        \n",
    "        #Coordenadas X e Y dos pontos que formam o arco\n",
    "        xcoord=[pontos.loc[inicial][\"x\"],pontos.loc[actual_node][\"x\"]]\n",
    "        ycoord=[pontos.loc[inicial][\"y\"],pontos.loc[actual_node][\"y\"]]\n",
    "        \n",
    "        #Plotagem gráfica do arco \n",
    "        plt.scatter(xcoord[0],ycoord[0],s=30,color='red',zorder=1)\n",
    "        plt.text(xcoord[0],ycoord[0],str(inicial),fontsize=12,color=\"red\")\n",
    "        plt.plot(xcoord,ycoord,'g',zorder=0)\n",
    "        \n",
    "        #String para plotar o caminho que o carro percorreu\n",
    "        string=str(k)+\": \"+str(inicial)+\" -> \"+str(actual_node)\n",
    "        \n",
    "        #Garante que o caminho será plotado mesmo se só tiver um arco\n",
    "        if len(routes[k]) == 0:\n",
    "            #Plotagem gráfica do último arco do caminho\n",
    "            plt.scatter(xcoord[1],ycoord[1],s=30,color='black',zorder=1)\n",
    "            plt.text(xcoord[1],ycoord[1],str(actual_node),fontsize=8,color=\"black\")\n",
    "        else:\n",
    "            while actual_node not in vitimas[\"Ponto\"].values:\n",
    "                next_node = routes[k].pop(actual_node)\n",
    "\n",
    "                #Adiciona um arco na string\n",
    "                string+=\"-> \"+str(next_node)\n",
    "\n",
    "                #Coordenadas X e Y dos pontos que formam o arco\n",
    "                xcoord=[pontos.loc[actual_node][\"x\"],pontos.loc[next_node][\"x\"]]\n",
    "                ycoord=[pontos.loc[actual_node][\"y\"],pontos.loc[next_node][\"y\"]]\n",
    "                \n",
    "                #Plotagem gráfica do arco \n",
    "                plt.scatter(xcoord[0],ycoord[0],s=20,color='black',zorder=1)\n",
    "                plt.text(xcoord[0],ycoord[0],str(actual_node),fontsize=8)\n",
    "                plt.plot(xcoord,ycoord,'g',zorder=0)\n",
    "                \n",
    "                actual_node=next_node\n",
    "            \n",
    "            #Plotagem gráfica do último arco do caminho\n",
    "            plt.scatter(xcoord[1],ycoord[1],s=20,color='purple',zorder=1)\n",
    "            plt.text(xcoord[1],ycoord[1],str(next_node),fontsize=8,color='purple')\n",
    "            \n",
    "        atendimentos[k] = actual_node\n",
    "        print(string)\n",
    "        \n",
    "plt.show()"
   ]
  },
  {
   "cell_type": "markdown",
   "metadata": {},
   "source": [
    "# Sinais"
   ]
  },
  {
   "cell_type": "code",
   "execution_count": null,
   "metadata": {},
   "outputs": [],
   "source": [
    "estado = pd.read_csv(\"s_300\",index_col=0)"
   ]
  },
  {
   "cell_type": "code",
   "execution_count": null,
   "metadata": {},
   "outputs": [],
   "source": [
    "sinais = Model(\"Sinais\")"
   ]
  },
  {
   "cell_type": "code",
   "execution_count": null,
   "metadata": {},
   "outputs": [],
   "source": [
    "sinal = 0 #Tempo entre as alterações de estado de um sinal\n",
    "for i in pontos.index:\n",
    "    for j in pontos.loc[i][2:]:\n",
    "        #Somamos o tempo de cada arco\n",
    "        sinal+=_DistanceMatrix.loc[i][j]\n",
    "sinal = (sinal/(3*len(pontos))) #O tempo de alteração vai ser a média"
   ]
  },
  {
   "cell_type": "code",
   "execution_count": null,
   "metadata": {},
   "outputs": [],
   "source": [
    "ordered_routes = mt.DecomposeRoute(_Solution,veiculos,vitimas) #Organiza os caminhos por ambulância"
   ]
  },
  {
   "cell_type": "code",
   "execution_count": null,
   "metadata": {},
   "outputs": [],
   "source": [
    "same_exits = veiculos.groupby(\"Inicial\").indices"
   ]
  },
  {
   "cell_type": "code",
   "execution_count": null,
   "metadata": {},
   "outputs": [],
   "source": [
    "arc_time = arc_states = arc_moment = arc_priority = arc_count = {}"
   ]
  },
  {
   "cell_type": "code",
   "execution_count": null,
   "metadata": {
    "scrolled": true
   },
   "outputs": [],
   "source": [
    "arc_time, arc_states, arc_moment, arc_priority, arc_count = mt.makeArcs(ordered_routes, #Caminhos organizados\n",
    "                                                                        _DistanceMatrix, #Matriz de Distâncias\n",
    "                                                                        veiculos,#Instância de veículos\n",
    "                                                                        vitimas, #Instância de vítimas\n",
    "                                                                        atendimentos, #Relação Ambulância-Vítima\n",
    "                                                                        pontos, #Arcos que saem de cada vértice\n",
    "                                                                        estado, #Estado dos Sinais no tempo 0\n",
    "                                                                        sinal) #Tempo de alteração do Sinal"
   ]
  },
  {
   "cell_type": "code",
   "execution_count": null,
   "metadata": {},
   "outputs": [],
   "source": [
    "arc_closed_moment = {}\n",
    "for i in arc_moment:\n",
    "    r=arc_moment[i]%2\n",
    "    aux = round(arc_moment[i]/2)\n",
    "    \n",
    "    #0: Fechado, 1: Aberto\n",
    "    #0->1->0->1->0...\n",
    "    if arc_states[i] == False:\n",
    "        arc_closed_moment[i]=aux+r\n",
    "        \n",
    "    #1->0->1->0->1...    \n",
    "    else:\n",
    "        arc_closed_moment[i]=aux\n",
    "    "
   ]
  },
  {
   "cell_type": "code",
   "execution_count": null,
   "metadata": {},
   "outputs": [],
   "source": [
    "def buildSets(rota_k,sinal,prioridade,pontos,estado,nodo=0,instante=0,maior_instante=0,sinais_alterados=[],matriz_sinais=[]):\n",
    "    \n",
    "    if nodo == (len(rota_k)-1):\n",
    "        #Configuração atual de sinais\n",
    "        config_atual=[]\n",
    "        \n",
    "        #Soma dos pesos dessa configuração\n",
    "        peso_rota=0\n",
    "        \n",
    "        for i in sinais_alterados:\n",
    "            arco = i[\"arco\"]         #<-(saida,chegada)\n",
    "            alterado = i[\"alterado\"] #<-(0,1)\n",
    "            instante = i[\"instante\"] #<-(t)\n",
    "            peso = i[\"peso\"]         #<-Wij\n",
    "\n",
    "            \n",
    "            #Adiciona (saida,chegada):{0/1,t} na matriz de sinais\n",
    "            #                    0=Não alterado\n",
    "            #                    1=Alterado\n",
    "            #                    t=Instante\n",
    "            config_atual.append({arco:(alterado,instante)})\n",
    "            \n",
    "            #Adiciona o peso do arco atual ao peso total da rota\n",
    "            peso_rota+=peso\n",
    "            \n",
    "        #Adiciona a configuração atual de sinais e o peso correspondente\n",
    "        #à matriz de configurações para a rota atual\n",
    "        matriz_sinais.append({\"sinais\":config_atual,\"peso\":peso_rota})\n",
    "        \n",
    "        #Retorna a matriz de sinais, agora\n",
    "        #com a configuração atual de sinais\n",
    "        return matriz_sinais,maior_instante\n",
    "    \n",
    "    else:\n",
    "        #Nodo de saída do arco\n",
    "        saida = rota_k[nodo]\n",
    "        #Nodo de chegada do arco\n",
    "        chegada = rota_k[nodo+1]\n",
    "        \n",
    "        #Custo básico \n",
    "        custo = _DistanceMatrix.loc[saida][chegada]\n",
    "        \n",
    "        #Esse trecho pega o \n",
    "        index = pontos.loc[saida][2:][pontos.loc[saida][2:] == chegada].index[0]\n",
    "        base = estado.loc[saida][index]\n",
    "        \n",
    "        #Se o estado do sinal for alterado, \n",
    "        #pagamos uma penalidade\n",
    "        alfa=(3*sinal)/(prioridade+1) \n",
    "        \"\"\"Apagar esse +1 depois de gerar nova instância\"\"\"\n",
    "        \n",
    "        estado1,instante1 = mt.getStateAtMoment(base,custo,sinal,instante)\n",
    "        #                     {estado1=0, se ligado no instante   }\n",
    "        #             estado1={estado1=1, se desligado no instante}\n",
    "        #               |\n",
    "        #               v                       ------------------\n",
    "        peso1 = custo+estado1*sinal# <- sinal = {tempo pra o sinal}\n",
    "        #                                       {mudar de estado  }\n",
    "        #                                       -------------------\n",
    "        #\n",
    "        # Se estado1=0 -> estado1*sinal=sinal, então pagamos o custo de esperar no sinal\n",
    "        # Se estado1=1 -> estado1*sinal=0, o sinal está verde e não precisamos esperar\n",
    "        \n",
    "        estado2,instante2 = mt.getStateAtMoment(base,custo+alfa,sinal,instante)\n",
    "        #                                ----------------------\n",
    "        #                                {Negação do estado2  }\n",
    "        #                    (1-estado2)={Se estado2=0, vira 1}\n",
    "        #                         |      {Se estado2=1, vira 0}\n",
    "        #                         |       ---------------------\n",
    "        #                         v                        ------------------\n",
    "        peso2 = custo+alfa+(1-estado2)*sinal # <- sinal = {tempo pra o sinal}\n",
    "        #               ^                                 {mudar de estado  }\n",
    "        #               |    -----------------            ------------------\n",
    "        #             alfa = {Penalidade por }            \n",
    "        #                    {alterar o sinal}\n",
    "        #                    ----------------\n",
    "        # Se (1-estado2)=1 -> (1-estado2)*sinal=0, então pagamos o custo de esperar no sinal\n",
    "        # Se (1-estado2)=0 -> (1-estado2)*sinal=sinal, o sinal está verde e não precisamos esperar\n",
    "        \n",
    "        if len(sinais_alterados) == 0:\n",
    "            sinais1=[{\"arco\":(saida,chegada),\"alterado\":0,\"peso\":peso1,\"instante\":instante1}]\n",
    "            sinais2=[{\"arco\":(saida,chegada),\"alterado\":1,\"peso\":peso2+alfa,\"instante\":instante2}]\n",
    "        else:\n",
    "\n",
    "            sinais1 = sinais_alterados.copy()\n",
    "            sinais2 = sinais_alterados.copy()\n",
    "            \n",
    "            sinais1.append({\"arco\":(saida,chegada),\"alterado\":0,\"peso\":peso1,\"instante\":instante1})\n",
    "            sinais2.append({\"arco\":(saida,chegada),\"alterado\":1,\"peso\":peso2,\"instante\":instante2})\n",
    "            \n",
    "        #Esse trecho vai garantir que\n",
    "        #a gente vai receber no final\n",
    "        #o maior instante, necessário\n",
    "        #para criarmos a matriz de de-\n",
    "        #cisão do mesmo tamanho.\n",
    "        if instante1 > maior_instante:\n",
    "            maior_instante = instante1\n",
    "            \n",
    "        elif instante2 > maior_instante:\n",
    "            maior_instante=instante2\n",
    "        \n",
    "        \n",
    "        #A intenção desse programa é popular\n",
    "        #primeiro por profundidade\n",
    "        \n",
    "        matriz_sinais, maior_instante = buildSets(rota_k,sinal,prioridade,pontos,estado,nodo+1,instante1,maior_instante,sinais1,matriz_sinais)\n",
    "        # Comportamento esperado:\n",
    "        #                       \n",
    "        #               o\n",
    "        #              / \\\n",
    "        #             o aberto\n",
    "        #            / \\\n",
    "        # Entrando<-x  aberto\n",
    "        #\n",
    "        # matriz_sinais->matriz_sinais + configuração 1\n",
    "\n",
    "        matriz_sinais, maior_instante = buildSets(rota_k,sinal,prioridade,pontos,estado,nodo+1,instante2,maior_instante,sinais2,matriz_sinais)\n",
    "        # Comportamento esperado:\n",
    "        #            o\n",
    "        #           / \\\n",
    "        #          o\n",
    "        #         / \\\n",
    "        # Saiu <-v  x->Entrando\n",
    "        #\n",
    "        # matriz_sinais->matriz_sinais + configuração 1 + configuração 2\n",
    "        \n",
    "        \n",
    "        return matriz_sinais,maior_instante"
   ]
  },
  {
   "cell_type": "code",
   "execution_count": 89,
   "metadata": {},
   "outputs": [],
   "source": [
    "maior_instante = 0\n",
    "matriz_rotas=[]\n",
    "for k in atendimentos:\n",
    "    prioridade=vitimas[vitimas[\"Ponto\"]==atendimentos[k]][\"Prioridade\"].values[0]\n",
    "    matriz,instante=buildSets(ordered_routes[k],sinal,prioridade,pontos,estado)\n",
    "    \n",
    "    if instante>maior_instante:\n",
    "        maior_instante=instante\n",
    "    matriz_rotas.append(matriz)"
   ]
  },
  {
   "cell_type": "code",
   "execution_count": 93,
   "metadata": {},
   "outputs": [],
   "source": [
    "_DecisionMatrixSinais = sinais.binary_var_matrix(arc_count.keys(),maior_instante,name=\"Arc\")"
   ]
  },
  {
   "cell_type": "code",
   "execution_count": 42,
   "metadata": {},
   "outputs": [],
   "source": [
    "minimize = LinearExpr(sinais)"
   ]
  },
  {
   "cell_type": "code",
   "execution_count": 43,
   "metadata": {},
   "outputs": [],
   "source": [
    "for i in arc_count.keys():\n",
    "    d = _DistanceMatrix.loc[i[0]][i[1]]\n",
    "    e = sinal\n",
    "    Si = _DecisionListSinais[i]\n",
    "    \n",
    "    minimize += arc_count[i]*(d+e*(1-Si))\n",
    "    Aj= (e*arc_closed_moment[i])/(arc_priority[i]+1)\n",
    "    minimize+=Si*Aj"
   ]
  },
  {
   "cell_type": "code",
   "execution_count": 44,
   "metadata": {},
   "outputs": [],
   "source": [
    "sinais.minimize(minimize)"
   ]
  },
  {
   "cell_type": "code",
   "execution_count": 45,
   "metadata": {
    "scrolled": true
   },
   "outputs": [],
   "source": [
    "_Solution2 = sinais.solve()"
   ]
  },
  {
   "cell_type": "code",
   "execution_count": 46,
   "metadata": {
    "scrolled": false
   },
   "outputs": [
    {
     "data": {
      "image/png": "[encoded data removed]",
      "text/plain": [
       "<Figure size 720x720 with 1 Axes>"
      ]
     },
     "metadata": {
      "needs_background": "light"
     },
     "output_type": "display_data"
    }
   ],
   "source": [
    "plt.figure(figsize=(10,10))\n",
    "routes = {x:{} for x in veiculos.index}  \n",
    "routes2= []\n",
    "for i in _Solution:\n",
    "        aux = i.split(\"_\")[1:]\n",
    "        routes[int(aux[2])][int(aux[0])]=int(aux[1])\n",
    "        \n",
    "for i in _Solution2.as_dict():\n",
    "        aux = i.split(\"_\")[1:]\n",
    "        routes2.append((int(aux[0]),int(aux[1])))\n",
    "        \n",
    "atendimentos = {}\n",
    "arc_count = {}\n",
    "for k in veiculos.index:\n",
    "    if len(routes[k]) > 0:\n",
    "        \n",
    "        inicial = veiculos.loc[k][\"Inicial\"]\n",
    "        actual_node = routes[k].pop(inicial)\n",
    "        \n",
    "       \n",
    "        xcoord=[pontos.loc[inicial][\"x\"],pontos.loc[actual_node][\"x\"]]\n",
    "        ycoord=[pontos.loc[inicial][\"y\"],pontos.loc[actual_node][\"y\"]]\n",
    "        \n",
    "        if (inicial,actual_node) in routes2:\n",
    "            plt.scatter(xcoord[0],ycoord[0],s=30,color='red',zorder=1)\n",
    "            plt.text(xcoord[0],ycoord[0],str(inicial),fontsize=12,color=\"red\")\n",
    "            plt.plot(xcoord,ycoord,'g',zorder=0)\n",
    "        else:\n",
    "            plt.scatter(xcoord[0],ycoord[0],s=30,color='red',zorder=1)\n",
    "            plt.text(xcoord[0],ycoord[0],str(inicial),fontsize=12,color=\"red\")\n",
    "            plt.plot(xcoord,ycoord,'black',zorder=0)\n",
    "        \n",
    "        if len(routes[k]) == 0:\n",
    "            plt.scatter(xcoord[1],ycoord[1],s=30,color='black',zorder=1)\n",
    "            plt.text(xcoord[1],ycoord[1],str(actual_node),fontsize=8,color=\"black\")\n",
    "        else:\n",
    "            while actual_node not in vitimas[\"Ponto\"].values:\n",
    "                next_node = routes[k].pop(actual_node)\n",
    "\n",
    "                if (actual_node,next_node) not in list(arc_count.keys()):\n",
    "                    arc_count[(actual_node,next_node)]= 1\n",
    "                else:\n",
    "                    arc_count[(actual_node,next_node)]+= 1\n",
    "                \n",
    "                string+=\"-> \"+str(next_node)\n",
    "\n",
    "\n",
    "                xcoord=[pontos.loc[actual_node][\"x\"],pontos.loc[next_node][\"x\"]]\n",
    "                ycoord=[pontos.loc[actual_node][\"y\"],pontos.loc[next_node][\"y\"]]\n",
    "                \n",
    "                if (actual_node, next_node) in routes2:\n",
    "                    plt.scatter(xcoord[0],ycoord[0],s=20,color='g',zorder=1)\n",
    "                    plt.text(xcoord[0],ycoord[0],str(actual_node),fontsize=8)\n",
    "                    plt.plot(xcoord,ycoord,'g',zorder=0)\n",
    "                    \n",
    "                else:\n",
    "                    plt.scatter(xcoord[0],ycoord[0],s=20,color='black',zorder=1)\n",
    "                    plt.text(xcoord[0],ycoord[0],str(actual_node),fontsize=8)\n",
    "                    plt.plot(xcoord,ycoord,'black',zorder=0)\n",
    "\n",
    "                actual_node=next_node\n",
    "                \n",
    "            plt.scatter(xcoord[1],ycoord[1],s=20,color='purple',zorder=1)\n",
    "            plt.text(xcoord[1],ycoord[1],str(next_node),fontsize=12,color='purple')\n",
    "        \n",
    "plt.show()"
   ]
  },
  {
   "cell_type": "code",
   "execution_count": null,
   "metadata": {},
   "outputs": [],
   "source": []
  }
 ],
 "metadata": {
  "kernelspec": {
   "display_name": "Python 3",
   "language": "python",
   "name": "python3"
  },
  "language_info": {
   "codemirror_mode": {
    "name": "ipython",
    "version": 3
   },
   "file_extension": ".py",
   "mimetype": "text/x-python",
   "name": "python",
   "nbconvert_exporter": "python",
   "pygments_lexer": "ipython3",
   "version": "3.6.9"
  }
 },
 "nbformat": 4,
 "nbformat_minor": 4
}
