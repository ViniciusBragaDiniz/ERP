{
 "cells": [
  {
   "cell_type": "code",
   "execution_count": 1,
   "metadata": {},
   "outputs": [
    {
     "name": "stdout",
     "output_type": "stream",
     "text": [
      "importing Jupyter notebook from Methods.ipynb\n"
     ]
    }
   ],
   "source": [
    "import pandas as pd\n",
    "import matplotlib.pyplot as plt\n",
    "from docplex.mp.model import Model\n",
    "from docplex.mp.linear import LinearExpr\n",
    "import import_ipynb\n",
    "import Methods as mt\n",
    "%matplotlib inline"
   ]
  },
  {
   "cell_type": "code",
   "execution_count": 2,
   "metadata": {},
   "outputs": [],
   "source": [
    "#Leitura das Instâncias\n",
    "veiculos = pd.read_csv(\"k_30\",index_col=0)\n",
    "vitimas = pd.read_csv(\"v_10\",index_col=0)\n",
    "pontos = pd.read_csv(\"n_200\",index_col=0)\n",
    "hospitais = veiculos[\"Inicial\"].unique()"
   ]
  },
  {
   "cell_type": "code",
   "execution_count": 3,
   "metadata": {},
   "outputs": [],
   "source": [
    "#Criação da Matriz de Distância\n",
    "_DistanceMatrix = pd.read_csv(\"d_200\",index_col=0)"
   ]
  },
  {
   "cell_type": "code",
   "execution_count": 4,
   "metadata": {},
   "outputs": [],
   "source": [
    "#Excluimos todas as distâncias referentes\n",
    "#aos arcos não existentes\n",
    "for i in _DistanceMatrix.index:\n",
    "    for j in _DistanceMatrix.index:\n",
    "        if j not in pontos.loc[i][2:].values:\n",
    "            _DistanceMatrix.loc[i][j]=0"
   ]
  },
  {
   "cell_type": "markdown",
   "metadata": {},
   "source": [
    "# Modelagem - VRP"
   ]
  },
  {
   "cell_type": "code",
   "execution_count": 5,
   "metadata": {},
   "outputs": [],
   "source": [
    "vrp = Model(\"Ambulancias-VRP\") #Modelo"
   ]
  },
  {
   "cell_type": "code",
   "execution_count": 6,
   "metadata": {},
   "outputs": [],
   "source": [
    "#Matriz com as variáveis de decisão principais\n",
    "_DecisionCube = vrp.binary_var_cube(_DistanceMatrix.index,_DistanceMatrix.index,veiculos.index,\"Arc\")"
   ]
  },
  {
   "cell_type": "code",
   "execution_count": 7,
   "metadata": {},
   "outputs": [],
   "source": [
    "#Função Objetivo\n",
    "vrp.minimize(vrp.sum(_DecisionCube[i,j,k]*_DistanceMatrix.loc[i][j] \n",
    "                     for i in _DistanceMatrix.index \n",
    "                     for j in _DistanceMatrix.index \n",
    "                     for k in veiculos.index))"
   ]
  },
  {
   "cell_type": "code",
   "execution_count": 8,
   "metadata": {},
   "outputs": [],
   "source": [
    "forbidden = LinearExpr(vrp)   #Arcos proíbidos\n",
    "\n",
    "for k in veiculos.index:\n",
    "    for i in _DistanceMatrix.index:\n",
    "        \n",
    "        flux = LinearExpr(vrp)    #Conservação de Fluxo\n",
    "        match = LinearExpr(vrp)   #Restrição de Compatibilidade\n",
    "        for j in _DistanceMatrix.index:\n",
    "            \n",
    "            if _DistanceMatrix.loc[i][j] > 0:    #Verifica se o arco existe\n",
    "                \n",
    "                if i in vitimas[\"Ponto\"].values:   #Se nodo 'i' for uma vítima:\n",
    "                    match+=_DecisionCube[j,i,k]    #Adiciona os arcos 'jik' em 'match'\n",
    "                    flux +=_DecisionCube[j,i,k]    #Subtrai o arco de chegada em 'i'\n",
    "                    forbidden+=_DecisionCube[i,j,k]#A ambulância não pode um arco saindo de 'i'\n",
    "                \n",
    "                elif i == veiculos.loc[k][\"Inicial\"]: #Se o nodo 'i' for um hospital\n",
    "                    flux += _DecisionCube[i,j,k]      #Adiciona o arco de saída de 'i'\n",
    "                \n",
    "                elif j == veiculos.loc[k][\"Inicial\"]: #Se o nodo 'j' for o ponto de saida de 'k'\n",
    "                    forbidden += _DecisionCube[i,j,k] #Retira o arco 'ij' da solução\n",
    "                    flux -=_DecisionCube[j,i,k]       #Coloca o arco de saída de 'j' no fluxo\n",
    "                    \n",
    "                else:                                 #Se nenhum desses casos se aplicar\n",
    "                    flux+=_DecisionCube[i,j,k]-_DecisionCube[j,i,k] #Fluxo normal\n",
    "                \n",
    "                    \n",
    "            else:                                #Se o arco não existir\n",
    "                forbidden += _DecisionCube[i,j,k]#Tira ele da solução\n",
    "                         \n",
    "        if i in vitimas[\"Ponto\"].values: #Se nodo 'i' for uma vítima\n",
    "            #Permite 'k' chegar em 'i' no máximo 1 vez\n",
    "            vrp.add_constraint(flux<=1,\"ChegadaVitima_\"+str(i)+\"_Carro_\"+str(k))\n",
    "            \n",
    "            #Pega a prioridade da vitima 'i'\n",
    "            prioridade = vitimas[vitimas[\"Ponto\"] == i][\"Prioridade\"].values[0]\n",
    "            \n",
    "            #E cria as restriçõe de UpperBound\n",
    "            vrp.add_constraint((veiculos.loc[k][\"UpperBound\"])*match-prioridade*match>=0,\n",
    "                               \"MatchUB_Ocurrence_\"+str(i)+\"_Vehicle\"+str(k))\n",
    "            #E LowerBound\n",
    "            vrp.add_constraint((veiculos.loc[k][\"LowerBound\"])*match-prioridade*match<=0,\n",
    "                              \"MatchLB_Ocurrence_\"+str(i)+\"_Vehicle\"+str(k))\n",
    "       \n",
    "        elif i == veiculos.loc[k][\"Inicial\"]: #Se o nodo 'i' for o inicial do veiculo 'k'\n",
    "            #Permite 'k' sair de 'i' no máximo 1 vez\n",
    "            vrp.add_constraint(flux<=1,\"FluxoInicialVeiculo_\"+str(k))\n",
    "        else:\n",
    "            #Fluxo Normal\n",
    "            vrp.add_constraint(flux==0,\"Fluxo_\"+str(i)+\"_Carro_\"+str(k))\n",
    "\n",
    "#Eliminação dos arcos inválidos\n",
    "vrp.add_constraint(forbidden==0,\"Cuts\");"
   ]
  },
  {
   "cell_type": "code",
   "execution_count": 9,
   "metadata": {
    "scrolled": true
   },
   "outputs": [],
   "source": [
    "for k in veiculos.index:\n",
    "    \n",
    "    inicial = veiculos.loc[k][\"Inicial\"] #Ponto de Saída de 'k'\n",
    "    \n",
    "    flux_inicial = LinearExpr(vrp) #Fluxo de Saída de 'k'\n",
    "    \n",
    "    for i in pontos.loc[inicial][2:].values:          #Para todos os arcos saindo do inicial\n",
    "        flux_inicial+=_DecisionCube[inicial,int(i),k] #Adicione-os ao fluxo de saída\n",
    "    \n",
    "    flux_final = LinearExpr(vrp) #Fluxo de Chegada nas ocorrências\n",
    "    \n",
    "    for i in vitimas[\"Ponto\"].values:          #Para todas as ocorrências\n",
    "        for j in pontos.loc[i][2:]:            #Para todos os arcos saindo delas\n",
    "            flux_final += _DecisionCube[j,i,k] #Adicione-os ao fluxo de chegada\n",
    "            \n",
    "    #Se o veículo sair de seu ponto inicial, ele deve atender uma ocorrência\n",
    "    vrp.add_constraint(flux_inicial-flux_final==0,\"AtendimentoObrigatorio_\"+str(k))"
   ]
  },
  {
   "cell_type": "code",
   "execution_count": 10,
   "metadata": {},
   "outputs": [],
   "source": [
    "for i in vitimas[\"Ponto\"].values:\n",
    "    \n",
    "    demand = LinearExpr(vrp) #Demanda da vítima 'i'\n",
    "    \n",
    "    for j in pontos.loc[i][2:].values:\n",
    "        for k in veiculos.index:\n",
    "            #Para cada arco 'j' chegando em 'i' e veículo 'k'\n",
    "            #Os adicionamos à expressão\n",
    "            demand+=_DecisionCube[int(j),int(i),k]\n",
    "    #Ao menos um precisa passar nessa vítima\n",
    "    vrp.add_constraint(demand>=1,\"DemandaVitima_\"+str(i))"
   ]
  },
  {
   "cell_type": "code",
   "execution_count": 11,
   "metadata": {},
   "outputs": [],
   "source": [
    "for k in veiculos.index:\n",
    "    capacidade = LinearExpr(vrp) #Capacidade do veículo 'k'\n",
    "    for i in vitimas[\"Ponto\"].values:\n",
    "        for j in pontos.loc[i][2:]:\n",
    "            #Para cada arco chegando em cada vítima\n",
    "            #Adicione-o à expressão\n",
    "            capacidade+=_DecisionCube[int(j),int(i),k]\n",
    "            \n",
    "    #O veículo só pode \n",
    "    vrp.add_constraint(capacidade<=1,\"CapacidadeVeiculo_\"+str(k))"
   ]
  },
  {
   "cell_type": "code",
   "execution_count": 12,
   "metadata": {
    "scrolled": true
   },
   "outputs": [
    {
     "name": "stdout",
     "output_type": "stream",
     "text": [
      "Version identifier: 12.10.0.0 | 2019-11-26 | 843d4de\n",
      "CPXPARAM_Read_DataCheck                          1\n",
      "CPXPARAM_RandomSeed                              201903125\n",
      "Tried aggregator 1 time.\n",
      "MIP Presolve eliminated 991 rows and 1295615 columns.\n",
      "Reduced MIP has 6303 rows, 24385 columns, and 50312 nonzeros.\n",
      "Reduced MIP has 24385 binaries, 0 generals, 0 SOSs, and 0 indicators.\n",
      "Presolve time = 1.27 sec. (515.91 ticks)\n",
      "Found incumbent of value 72669.975207 after 1.98 sec. (745.32 ticks)\n",
      "Probing time = 0.05 sec. (2.29 ticks)\n",
      "Tried aggregator 1 time.\n",
      "Detecting symmetries...\n",
      "Reduced MIP has 6303 rows, 24385 columns, and 50312 nonzeros.\n",
      "Reduced MIP has 24385 binaries, 0 generals, 0 SOSs, and 0 indicators.\n",
      "Presolve time = 0.15 sec. (34.71 ticks)\n",
      "Probing time = 0.04 sec. (2.70 ticks)\n",
      "Clique table members: 66.\n",
      "MIP emphasis: balance optimality and feasibility.\n",
      "MIP search method: dynamic search.\n",
      "Parallel mode: deterministic, using up to 4 threads.\n",
      "Root relaxation solution time = 0.54 sec. (222.74 ticks)\n",
      "\n",
      "        Nodes                                         Cuts/\n",
      "   Node  Left     Objective  IInf  Best Integer    Best Bound    ItCnt     Gap\n",
      "\n",
      "*     0+    0                        72669.9752        0.0000           100.00%\n",
      "*     0+    0                         2478.7223        0.0000           100.00%\n",
      "*     0     0      integral     0      391.6702      391.6702       15    0.00%\n",
      "Elapsed time = 3.24 sec. (1223.45 ticks, tree = 0.00 MB, solutions = 3)\n",
      "\n",
      "Root node processing (before b&c):\n",
      "  Real time             =    3.36 sec. (1276.40 ticks)\n",
      "Parallel b&c, 4 threads:\n",
      "  Real time             =    0.00 sec. (0.00 ticks)\n",
      "  Sync time (average)   =    0.00 sec.\n",
      "  Wait time (average)   =    0.00 sec.\n",
      "                          ------------\n",
      "Total (root+branch&cut) =    3.36 sec. (1276.40 ticks)\n",
      "{0: {193: 0}, 1: {}, 2: {}, 3: {1: 85, 23: 1, 71: 23, 76: 71, 85: 198, 159: 182, 198: 159}, 4: {10: 195, 31: 150, 150: 16, 195: 31}, 5: {}, 6: {10: 195, 31: 96, 96: 29, 195: 31}, 7: {}, 8: {10: 195, 31: 150, 118: 166, 141: 118, 150: 181, 166: 12, 181: 141, 195: 31}, 9: {}, 10: {}, 11: {}, 12: {}, 13: {}, 14: {}, 15: {}, 16: {}, 17: {17: 22, 22: 174, 63: 169, 174: 63, 199: 17}, 18: {10: 56, 56: 55}, 19: {}, 20: {32: 111, 40: 82, 58: 135, 69: 190, 82: 69, 111: 58, 135: 40, 190: 116, 193: 32}, 21: {}, 22: {45: 28, 50: 107, 70: 50, 72: 45, 76: 70, 90: 132, 107: 90, 132: 72}, 23: {}, 24: {}, 25: {}, 26: {}, 27: {10: 56, 56: 151, 148: 113, 151: 148}, 28: {}, 29: {}, 30: {}, 31: {}, 32: {}}\n",
      "5.3253068923950195\n"
     ]
    }
   ],
   "source": [
    "import time\n",
    "start = time.time() #Tempo de ínicio\n",
    "subcicle = True     #Condição de parada\n",
    "#Assumindo que existe subciclos, nós...\n",
    "while subcicle == True:\n",
    "    \n",
    "    #Rota percorrida por cada veículo\n",
    "    routes = {x:{} for x in veiculos.index}    \n",
    "    \n",
    "    #Solução VRP - Dicionário Desordenado\n",
    "    _Solution = vrp.solve(log_output=True).as_dict()\n",
    "    #saida veículo\n",
    "    #    |   |\n",
    "    #    v   v\n",
    "    #Arc_i_j_k: True/False <-Valores Possíveis\n",
    "    #      ^\n",
    "    #      |\n",
    "    #   chegada\n",
    "    #\n",
    "    #Arc_i_j_k = Chave\n",
    "    \n",
    "    for i in _Solution:\n",
    "        #\n",
    "        #\n",
    "        #\"Arc_i_j_k\"\n",
    "        #     |   \n",
    "        #     v                      0   1   2\n",
    "        aux = i.split(\"_\")[1:] #<- [\"i\",\"j\",\"k\"]\n",
    "        #        ^\n",
    "        #        |\n",
    "        #[\"Arc\",\"i\",\"j\",\"k\"]\n",
    "        #\n",
    "        #         veiculo=k    saida=i      chegada=j\n",
    "        #             |            |            |\n",
    "        #             v            v            v\n",
    "        routes[int(aux[2])][int(aux[0])]=int(aux[1])\n",
    "        # ^\n",
    "        # |_ Rotas agrupadas por veículo\n",
    "       \n",
    "    print(routes)\n",
    "    count = 0 #Contador para as eliminações de subciclo\n",
    "    summ = 0 #Condição de parada\n",
    "    \n",
    "    #O trecho de código abaixo deve remover o caminho\n",
    "    #principal para futuramente verificarmos se existe\n",
    "    #algum subciclo na rota do veículo 'k'\n",
    "    for k in veiculos.index:\n",
    "        \n",
    "        #Primeiramente, verificamos se o veículo 'k'\n",
    "        #percorreu, ou não, pelo menos um arco\n",
    "        if len(routes[k]) > 0:\n",
    "            \n",
    "            #Se ele percorreu pelo menos um arco:\n",
    "            #Começamos verificando qual o ponto de saida\n",
    "            #do veículo 'k' e atribuímos esse nodo para\n",
    "            #o ponto de partida do nosso loop\n",
    "            \n",
    "            inicial = veiculos.loc[k][\"Inicial\"]\n",
    "            #  ^\n",
    "            #  |\n",
    "            #Saída de 'k'\n",
    "            #\n",
    "            #Chegada de 'k'\n",
    "            #saindo do ponto\n",
    "            #inicial\n",
    "            #  |\n",
    "            #  v\n",
    "            actual_node = routes[k].pop(inicial)\n",
    "            \n",
    "            #inicial->actual_node = primeiro arco de todas as rotas\n",
    "            \n",
    "            #Iremos percorrer a rota até que alcançemos a vítima\n",
    "            while actual_node not in vitimas[\"Ponto\"].values:\n",
    "                # actual_node                actual_node\n",
    "                #vira chegada do        inicia como saída do\n",
    "                #  arco                        arco\n",
    "                #   |                            |\n",
    "                #   v                            v\n",
    "                actual_node = routes[k].pop(actual_node)\n",
    "                \n",
    "                #it0: actual_node-> nodo 'j'\n",
    "                #               ^\n",
    "                #               |\n",
    "                #it1:     actual_node -> nodo 'k'\n",
    "                #                             ^\n",
    "                #                             |\n",
    "                #it2:                     actual_node -> nodo 'l' ...\n",
    "        \n",
    "        \n",
    "        #Se sobrou algum subciclo\n",
    "        #depois da remoção do caminho\n",
    "        #principal então \n",
    "        #len(routes[k]) > 0\n",
    "        summ += len(routes[k])\n",
    "        \n",
    "        \n",
    "        #Se sobrou algum arco dentro\n",
    "        #da rota, então deve ser algum\n",
    "        #subciclo que devemos retirar\n",
    "        if len(routes[k]) >0:\n",
    "            \n",
    "            #Enquanto ainda existir algum arco\n",
    "            #dentro da rota do veículo 'k'\n",
    "            #ele faz parte de um subciclo\n",
    "            #que deve ser retirado, portanto\n",
    "            #iteramos até removermos todos os\n",
    "            #subciclos\n",
    "            while(len(routes[k])>0):\n",
    "                print(routes[k])\n",
    "                cut = LinearExpr(vrp) #Expressão Linear do Subciclo atual\n",
    "                \n",
    "                first_node = list(routes[k].keys())[0]\n",
    "                #  ^\n",
    "                #  |\n",
    "                #saída do primeiro arco\n",
    "                #do subciclo atual\n",
    "                #\n",
    "                #chegada do primeiro\n",
    "                #arco do subciclo atual\n",
    "                #  |\n",
    "                #  v\n",
    "                actual_node = routes[k].pop(first_node)\n",
    "                \n",
    "                #Adicionamos o arco inicial à restrição\n",
    "                cut += _DecisionCube[int(first_node),int(actual_node),k]\n",
    "                \n",
    "                #Tamanho do subciclo -1\n",
    "                size = 0\n",
    "                while(actual_node != first_node):\n",
    "                    next_node = routes[k].pop(actual_node)                 #Percorre o subciclo e o adiciona ao#\n",
    "                    cut += _DecisionCube[int(actual_node),int(next_node),k]#conjunto de subciclos proíbidos.#\n",
    "                    actual_node = next_node\n",
    "                    size+=1\n",
    "                count+=1\n",
    "                vrp.add_constraint(cut<=size,\"SubCycleCut_\"+str(count))\n",
    "    \n",
    "    if summ == 0:\n",
    "        subcicle = False\n",
    "print(time.time()-start)"
   ]
  },
  {
   "cell_type": "code",
   "execution_count": 13,
   "metadata": {},
   "outputs": [
    {
     "name": "stdout",
     "output_type": "stream",
     "text": [
      "0: 193 -> 0\n",
      "3: 76 -> 71-> 23-> 1-> 85-> 198-> 159-> 182\n",
      "4: 10 -> 195-> 31-> 150-> 16\n",
      "6: 10 -> 195-> 31-> 96-> 29\n",
      "8: 10 -> 195-> 31-> 150-> 181-> 141-> 118-> 166-> 12\n",
      "17: 199 -> 17-> 22-> 174-> 63-> 169\n",
      "18: 10 -> 56-> 55\n",
      "20: 193 -> 32-> 111-> 58-> 135-> 40-> 82-> 69-> 190-> 116\n",
      "22: 76 -> 70-> 50-> 107-> 90-> 132-> 72-> 45-> 28\n",
      "27: 10 -> 56-> 151-> 148-> 113\n"
     ]
    },
    {
     "data": {
      "image/png": "[encoded data removed]",
      "text/plain": [
       "<Figure size 720x720 with 1 Axes>"
      ]
     },
     "metadata": {
      "needs_background": "light"
     },
     "output_type": "display_data"
    }
   ],
   "source": [
    "plt.figure(figsize=(10,10))\n",
    "routes = {x:{} for x in veiculos.index}  \n",
    "#Cria novamente as rotas de cada veículo\n",
    "for i in _Solution:\n",
    "        aux = i.split(\"_\")[1:]\n",
    "        routes[int(aux[2])][int(aux[0])]=int(aux[1])\n",
    "        \n",
    "atendimentos = {}\n",
    "arc_count = {}\n",
    "for k in veiculos.index:\n",
    "    #Só roda o código se o veículo tiver percorrido pelo menos um arco\n",
    "    if len(routes[k]) > 0:\n",
    "        \n",
    "        inicial = veiculos.loc[k][\"Inicial\"]\n",
    "        actual_node = routes[k].pop(inicial)\n",
    "        \n",
    "        #Coordenadas X e Y dos pontos que formam o arco\n",
    "        xcoord=[pontos.loc[inicial][\"x\"],pontos.loc[actual_node][\"x\"]]\n",
    "        ycoord=[pontos.loc[inicial][\"y\"],pontos.loc[actual_node][\"y\"]]\n",
    "        \n",
    "        #Plotagem gráfica do arco \n",
    "        plt.scatter(xcoord[0],ycoord[0],s=30,color='red',zorder=1)\n",
    "        plt.text(xcoord[0],ycoord[0],str(inicial),fontsize=12,color=\"red\")\n",
    "        plt.plot(xcoord,ycoord,'g',zorder=0)\n",
    "        \n",
    "        #String para plotar o caminho que o carro percorreu\n",
    "        string=str(k)+\": \"+str(inicial)+\" -> \"+str(actual_node)\n",
    "        \n",
    "        #Garante que o caminho será plotado mesmo se só tiver um arco\n",
    "        if len(routes[k]) == 0:\n",
    "            #Plotagem gráfica do último arco do caminho\n",
    "            plt.scatter(xcoord[1],ycoord[1],s=30,color='purple',zorder=1)\n",
    "            plt.text(xcoord[1],ycoord[1],str(actual_node),fontsize=8,color=\"purple\")\n",
    "        else:\n",
    "            while actual_node not in vitimas[\"Ponto\"].values:\n",
    "                next_node = routes[k].pop(actual_node)\n",
    "\n",
    "                #Adiciona um arco na string\n",
    "                string+=\"-> \"+str(next_node)\n",
    "\n",
    "                #Coordenadas X e Y dos pontos que formam o arco\n",
    "                xcoord=[pontos.loc[actual_node][\"x\"],pontos.loc[next_node][\"x\"]]\n",
    "                ycoord=[pontos.loc[actual_node][\"y\"],pontos.loc[next_node][\"y\"]]\n",
    "                \n",
    "                #Plotagem gráfica do arco \n",
    "                plt.scatter(xcoord[0],ycoord[0],s=20,color='black',zorder=1)\n",
    "                plt.text(xcoord[0],ycoord[0],str(actual_node),fontsize=8)\n",
    "                plt.plot(xcoord,ycoord,'g',zorder=0)\n",
    "                \n",
    "                actual_node=next_node\n",
    "            \n",
    "            #Plotagem gráfica do último arco do caminho\n",
    "            plt.scatter(xcoord[1],ycoord[1],s=20,color='purple',zorder=1)\n",
    "            plt.text(xcoord[1],ycoord[1],str(next_node),fontsize=8,color='purple')\n",
    "            \n",
    "        atendimentos[k] = actual_node\n",
    "        print(string)\n",
    "        \n",
    "plt.show()"
   ]
  },
  {
   "cell_type": "markdown",
   "metadata": {},
   "source": [
    "# Sinais"
   ]
  },
  {
   "cell_type": "code",
   "execution_count": 14,
   "metadata": {},
   "outputs": [],
   "source": [
    "estado = pd.read_csv(\"s_200\",index_col=0)"
   ]
  },
  {
   "cell_type": "code",
   "execution_count": 15,
   "metadata": {},
   "outputs": [],
   "source": [
    "sinais = Model(\"Sinais\")"
   ]
  },
  {
   "cell_type": "code",
   "execution_count": 16,
   "metadata": {},
   "outputs": [],
   "source": [
    "sinal = 0 #Tempo entre as alterações de estado de um sinal\n",
    "for i in pontos.index:\n",
    "    for j in pontos.loc[i][2:]:\n",
    "        #Somamos o tempo de cada arco\n",
    "        sinal+=_DistanceMatrix.loc[i][int(j)]\n",
    "sinal = (sinal/(3*len(pontos))) #O tempo de alteração vai ser a média"
   ]
  },
  {
   "cell_type": "code",
   "execution_count": 17,
   "metadata": {},
   "outputs": [],
   "source": [
    "ordered_routes = mt.DecomposeRoute(_Solution,veiculos,vitimas) #Organiza os caminhos por ambulância"
   ]
  },
  {
   "cell_type": "code",
   "execution_count": 18,
   "metadata": {},
   "outputs": [],
   "source": [
    "arc_count = mt.makeArcCount(ordered_routes,_DistanceMatrix)"
   ]
  },
  {
   "cell_type": "code",
   "execution_count": 19,
   "metadata": {},
   "outputs": [],
   "source": [
    "maior_instante = 0\n",
    "matriz_rotas={k:[] for k in atendimentos}\n",
    "for k in atendimentos:\n",
    "    prioridade=vitimas[vitimas[\"Ponto\"]==atendimentos[k]][\"Prioridade\"].values[0]\n",
    "    matriz,instante=mt.buildSets(_DistanceMatrix,ordered_routes[k],sinal,prioridade,pontos,estado,sinais_alterados=[],matriz_sinais=[])\n",
    "    if instante>maior_instante:\n",
    "        maior_instante=instante\n",
    "    matriz_rotas[k] = matriz"
   ]
  },
  {
   "cell_type": "code",
   "execution_count": 20,
   "metadata": {
    "scrolled": true
   },
   "outputs": [],
   "source": [
    "same_instant={}\n",
    "\n",
    "for arc in arc_count:\n",
    "    same_instant[arc]={}\n",
    "    instants={}\n",
    "    for k in atendimentos:\n",
    "        \n",
    "        count = 0\n",
    "        if arc in matriz_rotas[k][count][\"sinais\"].keys():\n",
    "            instants[arc]=[]\n",
    "            while count < len(matriz_rotas[k]):\n",
    "                instant_k = matriz_rotas[k][count][\"sinais\"][arc][1]\n",
    "\n",
    "                if instant_k not in instants[arc]:\n",
    "                    instants[arc].append(instant_k)\n",
    "                    same_instant[arc][instant_k]=[(k,count)]\n",
    "                else:\n",
    "                    same_instant[arc][instant_k].append((k,count))\n",
    "                count+=1"
   ]
  },
  {
   "cell_type": "code",
   "execution_count": 21,
   "metadata": {},
   "outputs": [],
   "source": [
    "config = {}\n",
    "for k in atendimentos:\n",
    "    count=0\n",
    "    config[k]=[]\n",
    "    for i in matriz_rotas[k]:\n",
    "        config[k].append({\"Config\":sinais.binary_var(\"Config_\"+str(count)+\"_Carro_\"+str(k)),\"Peso\":i[\"peso\"]})\n",
    "        count+=1"
   ]
  },
  {
   "cell_type": "code",
   "execution_count": 22,
   "metadata": {},
   "outputs": [],
   "source": [
    "minimize=LinearExpr(sinais)\n",
    "for k in atendimentos:\n",
    "    choose1=LinearExpr(sinais)\n",
    "    for i in config[k]:\n",
    "        choose1+=i[\"Config\"]\n",
    "        minimize+=i[\"Config\"]*i[\"Peso\"]\n",
    "    sinais.add_constraint(choose1==1,\"Choose1ConfigVehicle\"+str(k))\n",
    "    \n",
    "sinais.minimize(minimize)"
   ]
  },
  {
   "cell_type": "code",
   "execution_count": 23,
   "metadata": {},
   "outputs": [],
   "source": [
    "for arc in same_instant:\n",
    "    for time in same_instant[arc]:\n",
    "        expressions={}\n",
    "        for i in same_instant[arc][time]:\n",
    "            vehicle = i[0]\n",
    "            config_number = i[1]\n",
    "            if i[0] not in expressions.keys():\n",
    "                expr=LinearExpr(sinais)\n",
    "\n",
    "                expr+=config[vehicle][config_number][\"Config\"]\n",
    "                expressions[vehicle]=expr\n",
    "            else:\n",
    "                expressions[vehicle]+=config[vehicle][config_number][\"Config\"]\n",
    "\n",
    "        consistent_timing=LinearExpr(sinais)\n",
    "        count=0\n",
    "        for k in expressions:\n",
    "            if count==0:\n",
    "                consistent_timing+=(len(expressions)-1)*expressions[k]\n",
    "                count+=1\n",
    "            else:\n",
    "                consistent_timing-=expressions[k]\n",
    "        sinais.add_constraint(consistent_timing==0,\"ConsistentTimingArc_\"+str(arc)+\"_Time_\"+str(time))"
   ]
  },
  {
   "cell_type": "code",
   "execution_count": 24,
   "metadata": {},
   "outputs": [
    {
     "data": {
      "text/plain": [
       "'ModeloSinais.lp'"
      ]
     },
     "execution_count": 24,
     "metadata": {},
     "output_type": "execute_result"
    }
   ],
   "source": [
    "sinais.export_as_lp(\"ModeloSinais\")"
   ]
  },
  {
   "cell_type": "code",
   "execution_count": 25,
   "metadata": {
    "scrolled": true
   },
   "outputs": [],
   "source": [
    "_Solution2 = sinais.solve()"
   ]
  },
  {
   "cell_type": "code",
   "execution_count": 26,
   "metadata": {},
   "outputs": [
    {
     "name": "stdout",
     "output_type": "stream",
     "text": [
      "0 -> {(193, 0): (0, 0.2427515019813194)}\n",
      "\n",
      "\n",
      "3 -> {(76, 71): (0, 0.5572669109572346), (71, 23): (0, 1.068973353915634), (23, 1): (0, 2.380603179391202), (1, 85): (0, 3.5550819069123225), (85, 198): (1, 5.320787960578538), (198, 159): (1, 7.194587754780849), (159, 182): (1, 9.029958538558555)}\n",
      "\n",
      "\n",
      "4 -> {(10, 195): (0, 1.0733881621966754), (195, 31): (0, 1.3374143564967165), (31, 150): (0, 2.869893144423852), (150, 16): (0, 3.2214250762433)}\n",
      "\n",
      "\n",
      "6 -> {(10, 195): (0, 1.0733881621966754), (195, 31): (0, 1.3374143564967165), (31, 96): (0, 2.686589844282917), (96, 29): (0, 3.2997402859651395)}\n",
      "\n",
      "\n",
      "8 -> {(10, 195): (0, 1.0733881621966754), (195, 31): (0, 1.3374143564967165), (31, 150): (0, 2.869893144423852), (150, 181): (0, 3.1140841340389795), (181, 141): (0, 3.9417603907781316), (141, 118): (0, 4.059988681924028), (118, 166): (1, 5.58302915180289), (166, 12): (0, 6.48437240796429)}\n",
      "\n",
      "\n",
      "17 -> {(199, 17): (0, 0.3637162295011491), (17, 22): (1, 2.14626234551372), (22, 174): (0, 2.2717734278968313), (174, 63): (0, 3.0405574596146745), (63, 169): (0, 3.7775748268988973)}\n",
      "\n",
      "\n",
      "18 -> {(10, 56): (0, 1.1767317042852699), (56, 55): (0, 2.264942478344275)}\n",
      "\n",
      "\n",
      "20 -> {(193, 32): (0, 1.0280007923207106), (32, 111): (0, 2.0407772558652004), (111, 58): (0, 2.999619281558799), (58, 135): (1, 4.957559949314557), (135, 40): (0, 5.444563632819349), (40, 82): (0, 5.760345926868628), (82, 69): (0, 6.600899769653899), (69, 190): (0, 7.792579329637201), (190, 116): (1, 9.34884898174733)}\n",
      "\n",
      "\n",
      "22 -> {(76, 70): (1, 1.5744598213527168), (70, 50): (0, 2.7748375216847525), (50, 107): (0, 3.812207813462985), (107, 90): (1, 5.647305706026583), (90, 132): (0, 6.842919245528677), (132, 72): (0, 7.077142371727023), (72, 45): (0, 7.349322253999099), (45, 28): (1, 9.29012729371713)}\n",
      "\n",
      "\n",
      "27 -> {(10, 56): (0, 1.1767317042852699), (56, 151): (0, 1.5032254151362674), (151, 148): (0, 2.9130816123410628), (148, 113): (1, 4.866547619577324)}\n",
      "\n",
      "\n"
     ]
    }
   ],
   "source": [
    "for i in _Solution2.as_dict():\n",
    "    carro = i.split(\"_\")[3]\n",
    "    config = i.split(\"_\")[1]\n",
    "    print(str(carro)+\" -> \"+str(matriz_rotas[int(carro)][int(config)][\"sinais\"]))\n",
    "    print(\"\\n\")"
   ]
  }
 ],
 "metadata": {
  "kernelspec": {
   "display_name": "Python 3",
   "language": "python",
   "name": "python3"
  },
  "language_info": {
   "codemirror_mode": {
    "name": "ipython",
    "version": 3
   },
   "file_extension": ".py",
   "mimetype": "text/x-python",
   "name": "python",
   "nbconvert_exporter": "python",
   "pygments_lexer": "ipython3",
   "version": "3.6.9"
  }
 },
 "nbformat": 4,
 "nbformat_minor": 4
}
