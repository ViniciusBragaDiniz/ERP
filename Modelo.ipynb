{
 "cells": [
  {
   "cell_type": "code",
   "execution_count": 1,
   "metadata": {},
   "outputs": [
    {
     "name": "stdout",
     "output_type": "stream",
     "text": [
      "importing Jupyter notebook from Methods.ipynb\n"
     ]
    }
   ],
   "source": [
    "import pandas as pd\n",
    "import matplotlib.pyplot as plt\n",
    "from docplex.mp.model import Model\n",
    "from docplex.mp.linear import LinearExpr\n",
    "import import_ipynb\n",
    "import Methods as mt\n",
    "%matplotlib inline"
   ]
  },
  {
   "cell_type": "code",
   "execution_count": 2,
   "metadata": {},
   "outputs": [],
   "source": [
    "#Leitura das Instâncias\n",
    "veiculos = pd.read_csv(\"k_15\",index_col=0)\n",
    "vitimas = pd.read_csv(\"v_5\",index_col=0)\n",
    "pontos = pd.read_csv(\"n_200\",index_col=0)\n",
    "hospitais = veiculos[\"Inicial\"].unique()"
   ]
  },
  {
   "cell_type": "code",
   "execution_count": 3,
   "metadata": {},
   "outputs": [],
   "source": [
    "#Criação da Matriz de Distância\n",
    "_DistanceMatrix = pd.DataFrame(0,index=pontos.index,columns=pontos.index,dtype=float)"
   ]
  },
  {
   "cell_type": "code",
   "execution_count": 4,
   "metadata": {},
   "outputs": [],
   "source": [
    "#Popula a Matriz de Distância\n",
    "for i in _DistanceMatrix.index:\n",
    "    for j in pontos.loc[i][2:].values:\n",
    "        x = (pontos.loc[i][\"x\"]-pontos.loc[int(j)][\"x\"])**2\n",
    "        y = (pontos.loc[i][\"y\"]-pontos.loc[int(j)][\"y\"])**2\n",
    "        _DistanceMatrix.loc[i][j] = ((x+y)**(1/2))"
   ]
  },
  {
   "cell_type": "markdown",
   "metadata": {},
   "source": [
    "# Modelagem"
   ]
  },
  {
   "cell_type": "code",
   "execution_count": 5,
   "metadata": {},
   "outputs": [],
   "source": [
    "vrp = Model(\"Ambulancias-VRP\") #Modelo"
   ]
  },
  {
   "cell_type": "code",
   "execution_count": 6,
   "metadata": {},
   "outputs": [],
   "source": [
    "#Matriz com as variáveis de decisão principais\n",
    "_DecisionCube = vrp.binary_var_cube(_DistanceMatrix.index,_DistanceMatrix.index,veiculos.index,\"Arc\")"
   ]
  },
  {
   "cell_type": "code",
   "execution_count": 7,
   "metadata": {},
   "outputs": [],
   "source": [
    "#Função Objetivo\n",
    "vrp.minimize(vrp.sum(_DecisionCube[i,j,k]*_DistanceMatrix.loc[i][j] \n",
    "                     for i in _DistanceMatrix.index \n",
    "                     for j in _DistanceMatrix.index \n",
    "                     for k in veiculos.index))"
   ]
  },
  {
   "cell_type": "code",
   "execution_count": 8,
   "metadata": {},
   "outputs": [],
   "source": [
    "forbidden = LinearExpr(vrp)   #Arcos proíbidos\n",
    "\n",
    "for k in veiculos.index:\n",
    "    for i in _DistanceMatrix.index:\n",
    "        \n",
    "        flux = LinearExpr(vrp)    #Conservação de Fluxo\n",
    "        match = LinearExpr(vrp)   #Restrição de Compatibilidade\n",
    "        for j in _DistanceMatrix.index:\n",
    "            \n",
    "            if _DistanceMatrix.loc[i][j] > 0:    #Verifica se o arco existe\n",
    "                \n",
    "                if i in vitimas[\"Ponto\"].values: #Se nodo 'i' for uma vítima:\n",
    "                    match+=_DecisionCube[j,i,k]  #Adiciona os arcos 'jik' em 'match'\n",
    "                    flux +=_DecisionCube[j,i,k]  #Subtrai o arco de chegada em 'i'\n",
    "                \n",
    "                elif i == veiculos.loc[k][\"Inicial\"]: #Se o nodo 'i' for um hospital\n",
    "                    flux += _DecisionCube[i,j,k]      #Adiciona o arco de saída de 'i'\n",
    "                \n",
    "                elif j == veiculos.loc[k][\"Inicial\"]: #Se o nodo 'j' for o ponto de saida de 'k'\n",
    "                    forbidden += _DecisionCube[i,j,k] #Retira o arco 'ij' da solução\n",
    "                    flux -=_DecisionCube[j,i,k]       #Coloca o arco de saída de 'j' no fluxo\n",
    "                    \n",
    "                else:                                 #Se nenhum desses casos se aplicar\n",
    "                    flux+=_DecisionCube[i,j,k]-_DecisionCube[j,i,k] #Fluxo normal\n",
    "                \n",
    "                    \n",
    "            else:                               #Se o arco não existir\n",
    "                forbidden += _DecisionCube[i,j,k]#Tira ele da solução\n",
    "                         \n",
    "        if i in vitimas[\"Ponto\"].values: #Se nodo 'i' for uma vítima\n",
    "            #Permite 'k' chegar em 'i' no máximo 1 vez\n",
    "            vrp.add_constraint(flux<=1,\"ChegadaVitima_\"+str(i)+\"_Carro_\"+str(k))\n",
    "            \n",
    "            #Pega a prioridade da vitima 'i'\n",
    "            prioridade = vitimas[vitimas[\"Ponto\"] == i][\"Prioridade\"].values[0]\n",
    "            \n",
    "            #E cria as restriçõe de UpperBound\n",
    "            vrp.add_constraint((veiculos.loc[k][\"UpperBound\"])*match-prioridade*match>=0,\n",
    "                               \"MatchUB_Ocurrence_\"+str(i)+\"_Vehicle\"+str(k))\n",
    "            #E LowerBound\n",
    "            vrp.add_constraint((veiculos.loc[k][\"LowerBound\"])*match-prioridade*match<=0,\n",
    "                              \"MatchLB_Ocurrence_\"+str(i)+\"_Vehicle\"+str(k))\n",
    "       \n",
    "        elif i == veiculos.loc[k][\"Inicial\"]: #Se o nodo 'i' for o inicial do veiculo 'k'\n",
    "            #Permite 'k' sair de 'i' no máximo 1 vez\n",
    "            vrp.add_constraint(flux<=1,\"FluxoInicialVeiculo_\"+str(k))\n",
    "        else:\n",
    "            #Fluxo Normal\n",
    "            vrp.add_constraint(flux==0,\"Fluxo_\"+str(i)+\"_Carro_\"+str(k))\n",
    "\n",
    "#Eliminação dos arcos inválidos\n",
    "vrp.add_constraint(forbidden==0,\"Cuts\");"
   ]
  },
  {
   "cell_type": "code",
   "execution_count": 9,
   "metadata": {
    "scrolled": true
   },
   "outputs": [],
   "source": [
    "for k in veiculos.index:\n",
    "    \n",
    "    inicial = veiculos.loc[k][\"Inicial\"] #Ponto de Saída de 'k'\n",
    "    \n",
    "    flux_inicial = LinearExpr(vrp) #Fluxo de Saída de 'k'\n",
    "    \n",
    "    for i in pontos.loc[inicial][2:].values:          #Para todos os arcos saindo do inicial\n",
    "        flux_inicial+=_DecisionCube[inicial,int(i),k] #Adicione-os ao fluxo de saída\n",
    "    \n",
    "    flux_final = LinearExpr(vrp) #Fluxo de Chegada nas ocorrências\n",
    "    \n",
    "    for i in vitimas[\"Ponto\"].values:          #Para todas as ocorrências\n",
    "        for j in pontos.loc[i][2:]:            #Para todos os arcos saindo delas\n",
    "            flux_final += _DecisionCube[j,i,k] #Adicione-os ao fluxo de chegada\n",
    "            \n",
    "    #Se o veículo sair de seu ponto inicial, ele deve atender uma ocorrência\n",
    "    vrp.add_constraint(flux_inicial-flux_final==0,\"AtendimentoObrigatorio_\"+str(k))"
   ]
  },
  {
   "cell_type": "code",
   "execution_count": 10,
   "metadata": {},
   "outputs": [],
   "source": [
    "for i in vitimas[\"Ponto\"].values:\n",
    "    \n",
    "    demand = LinearExpr(vrp) #Demanda da vítima 'i'\n",
    "    \n",
    "    for j in pontos.loc[i][2:].values:\n",
    "        for k in veiculos.index:\n",
    "            #Para cada arco 'j' chegando em 'i' e veículo 'k'\n",
    "            #Os adicionamos à expressão\n",
    "            demand+=_DecisionCube[int(j),int(i),k]\n",
    "    #Ao menos um precisa passar nessa vítima\n",
    "    vrp.add_constraint(demand>=1,\"DemandaVitima_\"+str(i))"
   ]
  },
  {
   "cell_type": "code",
   "execution_count": 11,
   "metadata": {},
   "outputs": [],
   "source": [
    "for k in veiculos.index:\n",
    "    capacidade = LinearExpr(vrp) #Capacidade do veículo 'k'\n",
    "    for i in vitimas[\"Ponto\"].values:\n",
    "        for j in pontos.loc[i][2:]:\n",
    "            #Para cada arco chegando em cada vítima\n",
    "            #Adicione-o à expressão\n",
    "            capacidade+=_DecisionCube[int(j),int(i),k]\n",
    "            \n",
    "    #O veículo só pode \n",
    "    vrp.add_constraint(capacidade<=1,\"CapacidadeVeiculo_\"+str(k))"
   ]
  },
  {
   "cell_type": "code",
   "execution_count": 12,
   "metadata": {},
   "outputs": [
    {
     "data": {
      "text/plain": [
       "'Model.lp'"
      ]
     },
     "execution_count": 12,
     "metadata": {},
     "output_type": "execute_result"
    }
   ],
   "source": [
    "vrp.export_as_lp(\"Model\")"
   ]
  },
  {
   "cell_type": "code",
   "execution_count": 13,
   "metadata": {
    "scrolled": true
   },
   "outputs": [
    {
     "name": "stdout",
     "output_type": "stream",
     "text": [
      "Version identifier: 12.10.0.0 | 2019-11-26 | 843d4de\n",
      "CPXPARAM_Read_DataCheck                          1\n",
      "CPXPARAM_RandomSeed                              201903125\n",
      "Tried aggregator 1 time.\n",
      "MIP Presolve eliminated 274 rows and 705876 columns.\n",
      "Reduced MIP has 3548 rows, 14124 columns, and 28272 nonzeros.\n",
      "Reduced MIP has 14124 binaries, 0 generals, 0 SOSs, and 0 indicators.\n",
      "Presolve time = 0.64 sec. (247.87 ticks)\n",
      "Found incumbent of value 40982.650241 after 1.05 sec. (381.81 ticks)\n",
      "Probing time = 0.03 sec. (1.15 ticks)\n",
      "Tried aggregator 1 time.\n",
      "Detecting symmetries...\n",
      "Reduced MIP has 3548 rows, 14124 columns, and 28272 nonzeros.\n",
      "Reduced MIP has 14124 binaries, 0 generals, 0 SOSs, and 0 indicators.\n",
      "Presolve time = 0.08 sec. (19.85 ticks)\n",
      "Probing time = 0.02 sec. (1.33 ticks)\n",
      "Clique table members: 34.\n",
      "MIP emphasis: balance optimality and feasibility.\n",
      "MIP search method: dynamic search.\n",
      "Parallel mode: deterministic, using up to 4 threads.\n",
      "Root relaxation solution time = 0.13 sec. (27.45 ticks)\n",
      "\n",
      "        Nodes                                         Cuts/\n",
      "   Node  Left     Objective  IInf  Best Integer    Best Bound    ItCnt     Gap\n",
      "\n",
      "*     0+    0                        40982.6502        0.0000           100.00%\n",
      "*     0     0      integral     0      288.4010      288.4010      708    0.00%\n",
      "Elapsed time = 1.64 sec. (543.84 ticks, tree = 0.00 MB, solutions = 2)\n",
      "\n",
      "Root node processing (before b&c):\n",
      "  Real time             =    1.70 sec. (567.91 ticks)\n",
      "Parallel b&c, 4 threads:\n",
      "  Real time             =    0.00 sec. (0.00 ticks)\n",
      "  Sync time (average)   =    0.00 sec.\n",
      "  Wait time (average)   =    0.00 sec.\n",
      "                          ------------\n",
      "Total (root+branch&cut) =    1.70 sec. (567.91 ticks)\n",
      "2.869302272796631\n"
     ]
    }
   ],
   "source": [
    "import time\n",
    "start = time.time()\n",
    "subcicle = True\n",
    "#Assumindo que existe subciclos, nós...\n",
    "while subcicle == True:\n",
    "    #... criamos uma rota para cada entregador...\n",
    "    routes = {x:{} for x in veiculos.index}    \n",
    "    #... e solucionamos o vrpo.\n",
    "    _Solution = vrp.solve(log_output=True).as_dict()\n",
    "    #Separamos a solução em rotas distintas para cada entregador...\n",
    "    for i in _Solution:\n",
    "        aux = i.split(\"_\")[1:]\n",
    "        routes[int(aux[2])][int(aux[0])]=int(aux[1])\n",
    "    \n",
    "    count = 0\n",
    "    summ = 0\n",
    "    #... percorremos toda a lista de de entregadores...\n",
    "    for k in veiculos.index:\n",
    "        #... verificando se ele fez alguma rota...\n",
    "        if len(routes[k]) > 0:\n",
    "            #... e caso tenha feito, retiramos a rota principal.\n",
    "            inicial = veiculos.loc[k][\"Inicial\"]\n",
    "            if inicial in list(routes[k].keys()):\n",
    "                actual_node = routes[k].pop(inicial)\n",
    "            else:\n",
    "                inicial =list(routes[k].keys())[0]\n",
    "                actual_node = routes[k].pop(inicial)\n",
    "            while actual_node not in vitimas[\"Ponto\"].values:\n",
    "                actual_node = routes[k].pop(actual_node) #Percorre o ciclo principal e o exclui#\n",
    "        summ += len(routes[k])\n",
    "        \n",
    "        \n",
    "        #Verificamos em seguida se sobrou algo depois de retirarmos a rota principal...\n",
    "        if len(routes[k]) >0:\n",
    "            #... e percorremos todas os subciclos ...\n",
    "            while(len(routes[k])>0):\n",
    "                cut = LinearExpr(vrp)\n",
    "                first_node = list(routes[k].keys())[0]\n",
    "                actual_node = routes[k].pop(first_node)\n",
    "                cut += _DecisionCube[int(first_node),int(actual_node),k]\n",
    "                size = 0\n",
    "                #... retirando-os 1 de cada vez ...\n",
    "                \n",
    "                while(actual_node != first_node):\n",
    "                    next_node = routes[k].pop(actual_node)                 #Percorre o subciclo e o adiciona ao#\n",
    "                    cut += _DecisionCube[int(actual_node),int(next_node),k]#conjunto de subciclos proíbidos.#\n",
    "                    actual_node = next_node\n",
    "                    size+=1\n",
    "                count+=1\n",
    "                vrp.add_constraint(cut<=size,\"SubCycleCut_\"+str(count))\n",
    "    if summ == 0:\n",
    "        subcicle = False\n",
    "print(time.time()-start)"
   ]
  },
  {
   "cell_type": "code",
   "execution_count": 14,
   "metadata": {},
   "outputs": [
    {
     "name": "stdout",
     "output_type": "stream",
     "text": [
      "2: 17 -> 15-> 42-> 65-> 150-> 34\n",
      "5: 39 -> 54\n",
      "7: 35 -> 23-> 40-> 84-> 114-> 93\n",
      "9: 17 -> 15-> 42-> 65-> 150-> 189-> 4-> 12-> 170-> 32-> 111-> 48-> 78-> 91-> 88-> 115-> 19-> 7-> 149-> 145\n",
      "16: 103 -> 107-> 119-> 117-> 196-> 97-> 90-> 186-> 102-> 137-> 195-> 155-> 152-> 123-> 87-> 29-> 167\n"
     ]
    },
    {
     "data": {
      "image/png": "[encoded data removed]",
      "text/plain": [
       "<Figure size 720x720 with 1 Axes>"
      ]
     },
     "metadata": {
      "needs_background": "light"
     },
     "output_type": "display_data"
    }
   ],
   "source": [
    "plt.figure(figsize=(10,10))\n",
    "routes = {x:{} for x in veiculos.index}  \n",
    "#Cria novamente as rotas de cada veículo\n",
    "for i in _Solution:\n",
    "        aux = i.split(\"_\")[1:]\n",
    "        routes[int(aux[2])][int(aux[0])]=int(aux[1])\n",
    "        \n",
    "maior_tempo = 0\n",
    "tempos = {}\n",
    "atendimentos = {}\n",
    "arc_count = {}\n",
    "for k in veiculos.index:\n",
    "    if len(routes[k]) > 0:\n",
    "        tempos[k]=0\n",
    "        tempo_k = 0\n",
    "        \n",
    "        inicial = veiculos.loc[k][\"Inicial\"]\n",
    "        actual_node = routes[k].pop(inicial)\n",
    "        \n",
    "        xcoord=[pontos.loc[inicial][\"x\"],pontos.loc[actual_node][\"x\"]]\n",
    "        ycoord=[pontos.loc[inicial][\"y\"],pontos.loc[actual_node][\"y\"]]\n",
    "        \n",
    "        plt.scatter(xcoord[0],ycoord[0],s=30,color='red',zorder=1)\n",
    "        plt.text(xcoord[0],ycoord[0],str(inicial),fontsize=12,color=\"red\")\n",
    "        plt.plot(xcoord,ycoord,'g',zorder=0)\n",
    "        \n",
    "        tempo_k += _DistanceMatrix.loc[inicial][actual_node]\n",
    "        \n",
    "        string=str(k)+\": \"+str(inicial)+\" -> \"+str(actual_node)\n",
    "        \n",
    "        if (inicial,actual_node) not in list(arc_count.keys()):\n",
    "            arc_count[(inicial,actual_node)]= 1\n",
    "        else:\n",
    "            arc_count[(inicial,actual_node)]+= 1\n",
    "        \n",
    "        if len(routes[k]) == 0:\n",
    "            plt.scatter(xcoord[1],ycoord[1],s=30,color='black',zorder=1)\n",
    "            plt.text(xcoord[1],ycoord[1],str(actual_node),fontsize=8,color=\"black\")\n",
    "        else:\n",
    "            while actual_node not in vitimas[\"Ponto\"].values:\n",
    "                next_node = routes[k].pop(actual_node)\n",
    "\n",
    "                if (actual_node,next_node) not in list(arc_count.keys()):\n",
    "                    arc_count[(actual_node,next_node)]= 1\n",
    "                else:\n",
    "                    arc_count[(actual_node,next_node)]+= 1\n",
    "                string+=\"-> \"+str(next_node)\n",
    "\n",
    "                tempo_k+=_DistanceMatrix.loc[actual_node][next_node]\n",
    "\n",
    "                xcoord=[pontos.loc[actual_node][\"x\"],pontos.loc[next_node][\"x\"]]\n",
    "                ycoord=[pontos.loc[actual_node][\"y\"],pontos.loc[next_node][\"y\"]]\n",
    "\n",
    "                plt.scatter(xcoord[0],ycoord[0],s=20,color='black',zorder=1)\n",
    "                plt.text(xcoord[0],ycoord[0],str(actual_node),fontsize=8)\n",
    "                plt.plot(xcoord,ycoord,'g',zorder=0)\n",
    "                actual_node=next_node\n",
    "\n",
    "            if tempo_k > maior_tempo:\n",
    "                maior_tempo = tempo_k\n",
    "\n",
    "            \n",
    "            tempos[k] = tempo_k\n",
    "            plt.scatter(xcoord[1],ycoord[1],s=20,color='black',zorder=1)\n",
    "            plt.text(xcoord[1],ycoord[1],str(next_node),fontsize=8)\n",
    "        atendimentos[k] = actual_node\n",
    "        print(string)\n",
    "        \n",
    "plt.show()"
   ]
  },
  {
   "cell_type": "markdown",
   "metadata": {},
   "source": [
    "# Sinais"
   ]
  },
  {
   "cell_type": "code",
   "execution_count": 15,
   "metadata": {},
   "outputs": [],
   "source": [
    "estado = pd.read_csv(\"s_200\",index_col=0)"
   ]
  },
  {
   "cell_type": "code",
   "execution_count": 16,
   "metadata": {},
   "outputs": [],
   "source": [
    "sinais = Model(\"Sinais\")"
   ]
  },
  {
   "cell_type": "code",
   "execution_count": 17,
   "metadata": {},
   "outputs": [],
   "source": [
    "sinal = 0 #Tempo entre as alterações de estado de um sinal\n",
    "for i in pontos.index:\n",
    "    for j in pontos.loc[i][2:]:\n",
    "        #Somamos o tempo de cada arco\n",
    "        sinal+=_DistanceMatrix.loc[i][j]\n",
    "sinal = (sinal/(3*len(pontos))) #O tempo de alteração vai ser a média"
   ]
  },
  {
   "cell_type": "markdown",
   "metadata": {
    "scrolled": true
   },
   "source": [
    "arc_time = {}\n",
    "arc_states = {}\n",
    "arc_instants={}\n",
    "arc_priority = {}\n",
    "\n",
    "for i in _Solution:\n",
    "        aux = i.split(\"_\")[1:]\n",
    "        routes[int(aux[2])][int(aux[0])]=int(aux[1])\n",
    "        \n",
    "for k in veiculos.index:\n",
    "    inst = 0\n",
    "    if len(routes[k])>0:\n",
    "        print(\"Veículo \"+str(k))\n",
    "        inicial = veiculos.loc[k][\"Inicial\"]\n",
    "        actual_node = routes[k].pop(inicial)\n",
    "\n",
    "        index_position = pontos.loc[inicial][2:][pontos.loc[inicial][2:] == actual_node].index[0]\n",
    "\n",
    "        state,inst = mt.getStateAtmMoment(estado.loc[inicial][index_position],\n",
    "                                 _DistanceMatrix.loc[inicial][actual_node],\n",
    "                                 sinal,inst)\n",
    "        print(state)\n",
    "        soma_tempo=_DistanceMatrix.loc[inicial][actual_node]\n",
    "\n",
    "        print(str((inicial,actual_node))+\"->\"+str(soma_tempo)+\" -> \"+str(state))\n",
    "        \n",
    "        if (inicial,actual_node) not in arc_time.keys():\n",
    "            arc_time[(inicial,actual_node)] = soma_tempo\n",
    "            \n",
    "        if (inicial,actual_node) not in arc_instants.keys():\n",
    "            arc_instants[(inicial,actual_node)] = inst\n",
    "            arc_states[(inicial,actual_node)] = state\n",
    "            \n",
    "        elif inst< arc_instants[(inicial,actual_node)]:\n",
    "            arc_instants[(inicial,actual_node)] = inst\n",
    "            arc_states[(inicial,actual_node)] = state\n",
    "            \n",
    "        prioridade = vitimas[vitimas[\"Ponto\"] == atendimentos[k]][\"Prioridade\"].values[0]\n",
    "        if (inicial,actual_node) not in arc_priority.keys():\n",
    "            arc_priority[(inicial,actual_node)] = prioridade\n",
    "        \n",
    "        elif arc_priority[(inicial,actual_node)] < prioridade:\n",
    "            arc_priority[(inicial,actual_node)] = prioridade\n",
    "            \n",
    "        while actual_node not in vitimas[\"Ponto\"].values:\n",
    "            next_node = routes[k].pop(actual_node)\n",
    "            \n",
    "            index_position = pontos.loc[actual_node][2:][pontos.loc[actual_node][2:] == next_node].index[0]\n",
    "\n",
    "            state,inst  = mt.getStateAtMoment(estado.loc[actual_node][index_position],\n",
    "                                     _DistanceMatrix.loc[actual_node][next_node],\n",
    "                                     sinal,inst)\n",
    "            soma_tempo+=_DistanceMatrix.loc[actual_node][next_node]+sinal*state\n",
    "\n",
    "            print(str((actual_node,next_node))+\"->\"+str(soma_tempo)+\" -> \"+str(state))\n",
    "        \n",
    "            if (actual_node,next_node) not in arc_time.keys():\n",
    "                arc_time[(actual_node,next_node)] = soma_tempo\n",
    "            elif soma_tempo > arc_time[(actual_node,next_node)]:\n",
    "                arc_time[(actual_node,next_node)] = soma_tempo\n",
    "                \n",
    "            if (actual_node,next_node) not in arc_instants.keys():\n",
    "                arc_instants[(actual_node,next_node)] = inst\n",
    "                arc_states[(actual_node,next_node)] = state\n",
    "            elif inst< arc_instants[(actual_node,next_node)]:\n",
    "                arc_instants[(actual_node,next_node)] = inst\n",
    "                arc_states[(actual_node,next_node)] = state\n",
    "                \n",
    "            prioridade = vitimas[vitimas[\"Ponto\"] == atendimentos[k]][\"Prioridade\"].values[0]\n",
    "            if (actual_node,next_node) not in arc_priority.keys():\n",
    "                arc_priority[(actual_node,next_node)] = prioridade\n",
    "\n",
    "            elif arc_priority[(actual_node,next_node)] < prioridade:\n",
    "                arc_priority[(actual_node,next_node)] = prioridade\n",
    "                \n",
    "            actual_node = next_node\n",
    "            \n",
    "        print(\"\")"
   ]
  },
  {
   "cell_type": "code",
   "execution_count": 18,
   "metadata": {},
   "outputs": [],
   "source": [
    "ordered_routes = mt.DecomposeRoute(_Solution,veiculos,vitimas)"
   ]
  },
  {
   "cell_type": "code",
   "execution_count": 19,
   "metadata": {},
   "outputs": [],
   "source": [
    "arc_time = arc_states = arc_moment = arc_priority = {}"
   ]
  },
  {
   "cell_type": "code",
   "execution_count": 20,
   "metadata": {},
   "outputs": [
    {
     "data": {
      "text/plain": [
       "{2: 34, 5: 54, 7: 93, 9: 145, 16: 167}"
      ]
     },
     "execution_count": 20,
     "metadata": {},
     "output_type": "execute_result"
    }
   ],
   "source": [
    "atendimentos"
   ]
  },
  {
   "cell_type": "code",
   "execution_count": 21,
   "metadata": {
    "scrolled": true
   },
   "outputs": [],
   "source": [
    "arc_time, arc_states, arc_moment, arc_priority = mt.makeArcs(ordered_routes,_DistanceMatrix,veiculos,vitimas,atendimentos,pontos,estado,sinal)"
   ]
  },
  {
   "cell_type": "code",
   "execution_count": 24,
   "metadata": {},
   "outputs": [],
   "source": [
    "arc_closed_moment = {}\n",
    "for i in arc_moment:\n",
    "    r=arc_moment[i]%2\n",
    "    aux = round(arc_moment[i]/2)\n",
    "    if arc_states[i] == False:\n",
    "        arc_closed_moment[i]=aux+r\n",
    "    else:\n",
    "        arc_closed_moment[i]=aux\n",
    "    "
   ]
  },
  {
   "cell_type": "code",
   "execution_count": 25,
   "metadata": {},
   "outputs": [],
   "source": [
    "dia = 24*60*60\n",
    "instante = round(maior_tempo/sinal)*2"
   ]
  },
  {
   "cell_type": "code",
   "execution_count": 26,
   "metadata": {},
   "outputs": [],
   "source": [
    "_DecisionListSinais = sinais.binary_var_dict(keys=arc_count.keys(),name=\"Arc\")"
   ]
  },
  {
   "cell_type": "code",
   "execution_count": 27,
   "metadata": {},
   "outputs": [],
   "source": [
    "minimize = LinearExpr(sinais)"
   ]
  },
  {
   "cell_type": "code",
   "execution_count": 29,
   "metadata": {},
   "outputs": [],
   "source": [
    "for i in arc_count.keys():\n",
    "    d = _DistanceMatrix.loc[i[0]][i[1]]\n",
    "    e = sinal\n",
    "    Si = _DecisionListSinais[i]\n",
    "    \n",
    "    minimize += arc_count[i]*(d+(e-((1-arc_states[i])*Si+(1-Si)*arc_states[i])*e))\n",
    "    Aj=(arc_closed_moment[i])/arc_priority[i]\n",
    "    minimize+=Aj*_DecisionListSinais[i]"
   ]
  },
  {
   "cell_type": "code",
   "execution_count": 30,
   "metadata": {},
   "outputs": [],
   "source": [
    "sinais.minimize(minimize)"
   ]
  },
  {
   "cell_type": "code",
   "execution_count": 31,
   "metadata": {
    "scrolled": true
   },
   "outputs": [],
   "source": [
    "_Solution2 = sinais.solve()"
   ]
  },
  {
   "cell_type": "code",
   "execution_count": 32,
   "metadata": {},
   "outputs": [
    {
     "name": "stdout",
     "output_type": "stream",
     "text": [
      "solution for: Sinais\n",
      "objective: 314.189\n",
      "Arc_17_15=1\n",
      "Arc_15_42=1\n",
      "Arc_42_65=1\n",
      "Arc_65_150=1\n",
      "Arc_39_54=1\n",
      "Arc_35_23=1\n",
      "Arc_40_84=1\n",
      "Arc_84_114=1\n",
      "Arc_114_93=1\n",
      "Arc_150_189=1\n",
      "Arc_4_12=1\n",
      "Arc_170_32=1\n",
      "Arc_32_111=1\n",
      "Arc_48_78=1\n",
      "Arc_91_88=1\n",
      "Arc_88_115=1\n",
      "Arc_115_19=1\n",
      "Arc_19_7=1\n",
      "Arc_103_107=1\n",
      "Arc_107_119=1\n",
      "Arc_119_117=1\n",
      "Arc_117_196=1\n",
      "Arc_196_97=1\n",
      "Arc_102_137=1\n",
      "Arc_137_195=1\n",
      "Arc_195_155=1\n",
      "Arc_155_152=1\n",
      "Arc_87_29=1\n",
      "\n"
     ]
    }
   ],
   "source": [
    "print(_Solution2)"
   ]
  },
  {
   "cell_type": "code",
   "execution_count": 33,
   "metadata": {
    "scrolled": false
   },
   "outputs": [
    {
     "data": {
      "image/png": "[encoded data removed]",
      "text/plain": [
       "<Figure size 720x720 with 1 Axes>"
      ]
     },
     "metadata": {
      "needs_background": "light"
     },
     "output_type": "display_data"
    }
   ],
   "source": [
    "plt.figure(figsize=(10,10))\n",
    "routes = {x:{} for x in veiculos.index}  \n",
    "routes2= []\n",
    "for i in _Solution:\n",
    "        aux = i.split(\"_\")[1:]\n",
    "        routes[int(aux[2])][int(aux[0])]=int(aux[1])\n",
    "        \n",
    "for i in _Solution2.as_dict():\n",
    "        aux = i.split(\"_\")[1:]\n",
    "        routes2.append((int(aux[0]),int(aux[1])))\n",
    "        \n",
    "maior_tempo = 0\n",
    "tempos = {}\n",
    "atendimentos = {}\n",
    "arc_count = {}\n",
    "for k in veiculos.index:\n",
    "    if len(routes[k]) > 0:\n",
    "        tempos[k]=0\n",
    "        tempo_k = 0\n",
    "        \n",
    "        inicial = veiculos.loc[k][\"Inicial\"]\n",
    "        actual_node = routes[k].pop(inicial)\n",
    "        \n",
    "       \n",
    "        xcoord=[pontos.loc[inicial][\"x\"],pontos.loc[actual_node][\"x\"]]\n",
    "        ycoord=[pontos.loc[inicial][\"y\"],pontos.loc[actual_node][\"y\"]]\n",
    "        \n",
    "        if (inicial,actual_node) in routes2:\n",
    "            plt.scatter(xcoord[0],ycoord[0],s=30,color='red',zorder=1)\n",
    "            plt.text(xcoord[0],ycoord[0],str(inicial),fontsize=12,color=\"red\")\n",
    "            plt.plot(xcoord,ycoord,'g',zorder=0)\n",
    "        else:\n",
    "            plt.scatter(xcoord[0],ycoord[0],s=30,color='black',zorder=1)\n",
    "            plt.text(xcoord[0],ycoord[0],str(inicial),fontsize=12,color=\"black\")\n",
    "            plt.plot(xcoord,ycoord,'black',zorder=0)\n",
    "        \n",
    "        tempo_k += _DistanceMatrix.loc[inicial][actual_node]\n",
    "        \n",
    "        if len(routes[k]) == 0:\n",
    "            plt.scatter(xcoord[1],ycoord[1],s=30,color='black',zorder=1)\n",
    "            plt.text(xcoord[1],ycoord[1],str(actual_node),fontsize=8,color=\"black\")\n",
    "        else:\n",
    "            while actual_node not in vitimas[\"Ponto\"].values:\n",
    "                next_node = routes[k].pop(actual_node)\n",
    "\n",
    "                if (actual_node,next_node) not in list(arc_count.keys()):\n",
    "                    arc_count[(actual_node,next_node)]= 1\n",
    "                else:\n",
    "                    arc_count[(actual_node,next_node)]+= 1\n",
    "                \n",
    "                string+=\"-> \"+str(next_node)\n",
    "\n",
    "\n",
    "                xcoord=[pontos.loc[actual_node][\"x\"],pontos.loc[next_node][\"x\"]]\n",
    "                ycoord=[pontos.loc[actual_node][\"y\"],pontos.loc[next_node][\"y\"]]\n",
    "                \n",
    "                if (actual_node, next_node) in routes2:\n",
    "                    plt.scatter(xcoord[0],ycoord[0],s=20,color='g',zorder=1)\n",
    "                    plt.text(xcoord[0],ycoord[0],str(actual_node),fontsize=8)\n",
    "                    plt.plot(xcoord,ycoord,'g',zorder=0)\n",
    "                    \n",
    "                else:\n",
    "                    plt.scatter(xcoord[0],ycoord[0],s=20,color='black',zorder=1)\n",
    "                    plt.text(xcoord[0],ycoord[0],str(actual_node),fontsize=8)\n",
    "                    plt.plot(xcoord,ycoord,'black',zorder=0)\n",
    "\n",
    "                actual_node=next_node\n",
    "                \n",
    "            plt.scatter(xcoord[1],ycoord[1],s=20,color='black',zorder=1)\n",
    "            plt.text(xcoord[1],ycoord[1],str(next_node),fontsize=8)\n",
    "        \n",
    "plt.show()"
   ]
  }
 ],
 "metadata": {
  "kernelspec": {
   "display_name": "Python 3",
   "language": "python",
   "name": "python3"
  },
  "language_info": {
   "codemirror_mode": {
    "name": "ipython",
    "version": 3
   },
   "file_extension": ".py",
   "mimetype": "text/x-python",
   "name": "python",
   "nbconvert_exporter": "python",
   "pygments_lexer": "ipython3",
   "version": "3.6.9"
  }
 },
 "nbformat": 4,
 "nbformat_minor": 4
}
