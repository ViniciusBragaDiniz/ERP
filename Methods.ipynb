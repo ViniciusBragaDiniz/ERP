{
 "cells": [
  {
   "cell_type": "code",
   "execution_count": 1,
   "metadata": {},
   "outputs": [],
   "source": [
    "import matplotlib.pyplot as plt\n",
    "import pandas as pd\n",
    "%matplotlib inline"
   ]
  },
  {
   "cell_type": "code",
   "execution_count": 2,
   "metadata": {},
   "outputs": [],
   "source": [
    "def getStateAtMoment(base,distance,sinal,inst):\n",
    "    inst = inst+(distance/sinal)\n",
    "    if inst >= 1:\n",
    "        if(inst%round(inst)>0):\n",
    "            inst=round(inst)+1\n",
    "        else:\n",
    "            inst=round(inst)\n",
    "    else:\n",
    "        return base,round(inst)\n",
    "    if inst%2==0:\n",
    "        return base,inst\n",
    "    else: \n",
    "        base = not base\n",
    "        return base,inst"
   ]
  },
  {
   "cell_type": "code",
   "execution_count": 3,
   "metadata": {},
   "outputs": [],
   "source": [
    "def DecomposeRoute(Solution,veiculos,vitimas):\n",
    "    routes = {x:{} for x in veiculos.index}  \n",
    "    #Separa as rotas de cada veículo\n",
    "    for i in Solution:\n",
    "            aux = i.split(\"_\")[1:]\n",
    "            routes[int(aux[2])][int(aux[0])]=int(aux[1])\n",
    "        \n",
    "    ordered_routes = {x:[] for x in veiculos.index}  \n",
    "    for k in veiculos.index:\n",
    "        if len(routes[k]) > 0:\n",
    "\n",
    "            inicial = veiculos.loc[k][\"Inicial\"]\n",
    "            actual_node = routes[k].pop(inicial)\n",
    "\n",
    "            ordered_routes[k].append(inicial)\n",
    "            \n",
    "            if len(routes[k]) == 0:\n",
    "                ordered_routes[k].append(actual_node)\n",
    "            else:\n",
    "                while actual_node not in vitimas[\"Ponto\"].values:\n",
    "                    \n",
    "                    ordered_routes[k].append(actual_node)\n",
    "                    \n",
    "                    next_node = routes[k].pop(actual_node)\n",
    "\n",
    "                    actual_node=next_node\n",
    "                \n",
    "                ordered_routes[k].append(actual_node)\n",
    "    return ordered_routes"
   ]
  },
  {
   "cell_type": "code",
   "execution_count": 4,
   "metadata": {},
   "outputs": [],
   "source": [
    "def makeArcs(ordered_routes,_DistanceMatrix,veiculos,vitimas,atendimento,pontos,estado,sinal):\n",
    "    arc_time = {}\n",
    "    arc_states = {}\n",
    "    arc_moment={}\n",
    "    arc_priority = {}\n",
    "\n",
    "    for k in range(len(ordered_routes)):\n",
    "        soma_tempo=0\n",
    "        moment = 0\n",
    "        \n",
    "        for i in range(len(ordered_routes[k])-1):\n",
    "            saida = ordered_routes[k][i]\n",
    "            chegada = ordered_routes[k][i+1]\n",
    "            \n",
    "            soma_tempo+=_DistanceMatrix.loc[saida][chegada]\n",
    "            \n",
    "            index_position = pontos.loc[saida][2:][pontos.loc[saida][2:] == chegada].index[0]\n",
    "\n",
    "            state,moment = getStateAtMoment(estado.loc[saida][index_position],\n",
    "                                 _DistanceMatrix.loc[saida][chegada],\n",
    "                                 sinal,moment)\n",
    "            \n",
    "            if (saida,chegada) not in arc_time.keys():\n",
    "                arc_time[(saida,chegada)] = soma_tempo\n",
    "                arc_moment[(saida,chegada)] = moment\n",
    "                arc_states[(saida,chegada)] = state\n",
    "            \n",
    "            elif arc_time[(saida,chegada)]<soma_tempo:\n",
    "                arc_time[(saida,chegada)] = soma_tempo\n",
    "                arc_moment[(saida,chegada)] = moment\n",
    "                arc_states[(saida,chegada)] = state\n",
    "        \n",
    "            priority = vitimas[vitimas[\"Ponto\"] == atendimento[k]][\"Prioridade\"].values[0]\n",
    "            \n",
    "            if (saida,chegada) not in arc_priority.keys():\n",
    "                arc_priority[(saida,chegada)] = priority\n",
    "\n",
    "            elif arc_priority[(saida,chegada)] < priority:\n",
    "                arc_priority[(saida,chegada)] = priority\n",
    "\n",
    "        \n",
    "    return arc_time,arc_states,arc_moment,arc_priority"
   ]
  }
 ],
 "metadata": {
  "kernelspec": {
   "display_name": "Python 3",
   "language": "python",
   "name": "python3"
  },
  "language_info": {
   "codemirror_mode": {
    "name": "ipython",
    "version": 3
   },
   "file_extension": ".py",
   "mimetype": "text/x-python",
   "name": "python",
   "nbconvert_exporter": "python",
   "pygments_lexer": "ipython3",
   "version": "3.6.9"
  }
 },
 "nbformat": 4,
 "nbformat_minor": 4
}
